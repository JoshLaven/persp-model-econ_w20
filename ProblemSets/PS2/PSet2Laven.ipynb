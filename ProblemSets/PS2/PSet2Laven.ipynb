{
 "cells": [
  {
   "cell_type": "markdown",
   "metadata": {},
   "source": [
    "# ACME: Numerical Differentiation "
   ]
  },
  {
   "cell_type": "markdown",
   "metadata": {},
   "source": [
    "Problem 1\n",
    "\n",
    "Write a function that defines f (x) = (sin(x) + 1)^sin(cos(x)) and takes its symbolic derivative with respect to x using SymPy. Lambdify the resulting function so that it can accept NumPy arrays and return the resulting function handle.\n",
    "To check your function, plot f and its derivative f′ over the domain [−π,π]. It may be helpful to move the bottom spine to 0 so you can see where the derivative crosses the x-axis."
   ]
  },
  {
   "cell_type": "code",
   "execution_count": 1,
   "metadata": {},
   "outputs": [],
   "source": [
    "from matplotlib import pyplot as plt\n",
    "import sympy as sy\n",
    "import numpy as np\n",
    "import pandas as pd\n",
    "\n",
    "x = sy.symbols('x')"
   ]
  },
  {
   "cell_type": "code",
   "execution_count": 2,
   "metadata": {},
   "outputs": [],
   "source": [
    "#Original function\n",
    "f_x = (sy.sin(x) + 1) ** (sy.sin(sy.cos(x)))\n",
    "f_x1 = sy.lambdify(x,f_x)\n",
    "\n",
    "#Derivative\n",
    "f_prime = sy.diff(f_x)\n",
    "f_prime1 = sy.lambdify(x, f_prime)"
   ]
  },
  {
   "cell_type": "code",
   "execution_count": 3,
   "metadata": {},
   "outputs": [],
   "source": [
    "points = np.arange(-3.14,3.14)"
   ]
  },
  {
   "cell_type": "code",
   "execution_count": 4,
   "metadata": {},
   "outputs": [
    {
     "data": {
      "text/plain": [
       "array([1.00134214, 2.5807851 , 0.37890804, 0.88190968, 1.40842419,\n",
       "       0.82769883, 0.81794686])"
      ]
     },
     "execution_count": 4,
     "metadata": {},
     "output_type": "execute_result"
    }
   ],
   "source": [
    "f_prime1(points)\n",
    "f_x1(points)"
   ]
  },
  {
   "cell_type": "code",
   "execution_count": 5,
   "metadata": {},
   "outputs": [
    {
     "data": {
      "text/plain": [
       "(0, 3)"
      ]
     },
     "execution_count": 5,
     "metadata": {},
     "output_type": "execute_result"
    },
    {
     "data": {
      "image/png": "[encoded data removed]",
      "text/plain": [
       "<Figure size 432x288 with 1 Axes>"
      ]
     },
     "metadata": {
      "needs_background": "light"
     },
     "output_type": "display_data"
    }
   ],
   "source": [
    "plt.plot(points, f_x1(points), 'r', label = 'Orig')\n",
    "plt.plot(points, f_prime1(points), 'b', label = 'Deriv')\n",
    "plt.ylim(0, 3)"
   ]
  },
  {
   "cell_type": "markdown",
   "metadata": {},
   "source": [
    "Problem 2\n",
    "\n",
    "Write a function for each of the finite difference quotients listed in Table 8.1. Each function should accept a function handle f, an array of points x, and a float h; each should return an array of the difference quotients evaluated at each point in x.\n",
    "To test your functions, approximate the derivative of f (x) = (sin(x) + 1)sin(cos(x)) at each point of a domain over [−π, π]. Plot the results and compare them to the results of Problem 1.\n",
    "\n"
   ]
  },
  {
   "cell_type": "code",
   "execution_count": 6,
   "metadata": {},
   "outputs": [],
   "source": [
    "f_forward1 = lambda f,x,h: (f(x+h)-f(x))/h\n",
    "f_forward2 = lambda f,x,h: (-3*f(x)+4*f(x+h)-f(x+h))/ (2*h)\n",
    "f_back1 = lambda f,x,h: (f(x)-f(x-h))/h\n",
    "f_back2 = lambda f,x,h: (3*f(x)- 4*f(x-h)+f(x-2*h))/(2*h)\n",
    "f_center1 = lambda f,x,h: (f(x+h)-f(x-h))/(2*h)\n",
    "f_center2 = lambda f,x,h: (f(x-2*h)- 8*f(x-h)+ 8*f(x+h)-f(x+2*h))/(12*h)"
   ]
  },
  {
   "cell_type": "code",
   "execution_count": 7,
   "metadata": {},
   "outputs": [
    {
     "data": {
      "text/plain": [
       "array([ 0.84394134,  1.08135049, -0.05068504,  0.83846132, -0.16104817,\n",
       "       -0.47779725,  0.47197436])"
      ]
     },
     "execution_count": 7,
     "metadata": {},
     "output_type": "execute_result"
    }
   ],
   "source": [
    "h=.000001\n",
    "f_forward1(f_x1,points,h)\n",
    "f_forward2(f_x1,points,h)\n",
    "f_back1(f_x1,points,h)\n",
    "f_back2(f_x1,points,h)\n",
    "f_center1(f_x1,points,h)\n",
    "f_center2(f_x1,points,h)"
   ]
  },
  {
   "cell_type": "code",
   "execution_count": 8,
   "metadata": {},
   "outputs": [
    {
     "data": {
      "text/plain": [
       "(0, 3)"
      ]
     },
     "execution_count": 8,
     "metadata": {},
     "output_type": "execute_result"
    },
    {
     "data": {
      "image/png": "[encoded data removed]",
      "text/plain": [
       "<Figure size 432x288 with 1 Axes>"
      ]
     },
     "metadata": {
      "needs_background": "light"
     },
     "output_type": "display_data"
    }
   ],
   "source": [
    "plt.plot(points, f_forward1(f_x1,points,h), 'r--')\n",
    "plt.plot(points, f_forward2(f_x1,points,h), 'g:')\n",
    "plt.plot(points, f_back1(f_x1,points,h), 'b----')\n",
    "plt.plot(points, f_back2(f_x1,points,h), 'y----')\n",
    "plt.plot(points, f_center1(f_x1,points,h), 'c:')\n",
    "plt.plot(points, f_center2(f_x1,points,h), 'm--')\n",
    "\n",
    "plt.ylim(0, 3)"
   ]
  },
  {
   "cell_type": "markdown",
   "metadata": {},
   "source": [
    "Problem 3\n",
    "\n",
    "\n",
    "Write a function that accepts a point x0 at which to compute the derivative of f(x) = (sin(x) + 1)^sin(cos(x)). Use your function from Problem 1 to compute the exact value of f′(x0). Then use each your functions from Problem 2 to get an approximate derivative f ̃′(x0) for h = 10^−8,10^−7,...,10^−1,1. Track the absolute error |f′(x0) − f ̃′(x0)| for each trial, then plot the absolute error against h on a log-log scale (use plt.loglog()).\n",
    "Instead of using np.linspace() to create an array of h values, use np.logspace(). This function generates logarithmically spaced values between two powers of 10."
   ]
  },
  {
   "cell_type": "code",
   "execution_count": 9,
   "metadata": {},
   "outputs": [
    {
     "data": {
      "text/plain": [
       "array([1.e-07, 1.e-06, 1.e-05, 1.e-04, 1.e-03, 1.e-02, 1.e-01, 1.e+00])"
      ]
     },
     "execution_count": 9,
     "metadata": {},
     "output_type": "execute_result"
    }
   ],
   "source": [
    "hpoints = np.logspace(-7, 0, 8) \n",
    "hpoints"
   ]
  },
  {
   "cell_type": "code",
   "execution_count": 10,
   "metadata": {},
   "outputs": [
    {
     "data": {
      "text/plain": [
       "-0.3965403874194624"
      ]
     },
     "execution_count": 10,
     "metadata": {},
     "output_type": "execute_result"
    }
   ],
   "source": [
    "#Real f'(x) at x=1\n",
    "xk=1\n",
    "f_prime1(xk)"
   ]
  },
  {
   "cell_type": "code",
   "execution_count": 11,
   "metadata": {},
   "outputs": [
    {
     "data": {
      "text/plain": [
       "array([-0.39654046, -0.39654116, -0.39654808, -0.39661733, -0.39730945,\n",
       "       -0.40419196, -0.4687854 , -0.59904239])"
      ]
     },
     "execution_count": 11,
     "metadata": {},
     "output_type": "execute_result"
    }
   ],
   "source": [
    "f_forward1(f_x1,xk,hpoints)"
   ]
  },
  {
   "cell_type": "code",
   "execution_count": 12,
   "metadata": {},
   "outputs": [],
   "source": [
    "def get_diff(f):\n",
    "    diff_list=[]\n",
    "    for i in f(f_x1,xk,hpoints):\n",
    "        a = abs(i-f_prime1(xk))\n",
    "        diff_list.append(a)\n",
    "    return diff_list"
   ]
  },
  {
   "cell_type": "code",
   "execution_count": 13,
   "metadata": {},
   "outputs": [
    {
     "data": {
      "text/plain": [
       "[7.748920549666138e-08,\n",
       " 7.693801944430589e-07,\n",
       " 7.694840399696812e-06,\n",
       " 7.694447531503279e-05,\n",
       " 0.0007690585267188244,\n",
       " 0.00765157071879341,\n",
       " 0.07224501706561681,\n",
       " 0.20250200030554089]"
      ]
     },
     "execution_count": 13,
     "metadata": {},
     "output_type": "execute_result"
    }
   ],
   "source": [
    "get_diff(f_forward1)"
   ]
  },
  {
   "cell_type": "code",
   "execution_count": 14,
   "metadata": {},
   "outputs": [
    {
     "data": {
      "text/plain": [
       "Text(0.5, 0, 'h')"
      ]
     },
     "execution_count": 14,
     "metadata": {},
     "output_type": "execute_result"
    },
    {
     "data": {
      "image/png": "[encoded data removed]",
      "text/plain": [
       "<Figure size 432x288 with 1 Axes>"
      ]
     },
     "metadata": {
      "needs_background": "light"
     },
     "output_type": "display_data"
    }
   ],
   "source": [
    "fig, ax = plt.subplots(1,1)\n",
    "plt.plot(hpoints, get_diff(f_forward1), 'r--')\n",
    "plt.plot(hpoints, get_diff(f_forward2), 'g:')\n",
    "plt.plot(hpoints, get_diff(f_back1), 'b----')\n",
    "plt.plot(hpoints, get_diff(f_back2), 'y----')\n",
    "plt.plot(hpoints, get_diff(f_center1), 'c:')\n",
    "plt.plot(hpoints, get_diff(f_center2), 'm--')\n",
    "\n",
    "plt.loglog()\n",
    "ax.set_ylabel('Absolute Error')\n",
    "ax.set_xlabel('h')"
   ]
  },
  {
   "cell_type": "markdown",
   "metadata": {},
   "source": [
    "Problem 4\n",
    "\n",
    "The radar stations A and B, separated by the distance a = 500 m, track a plane C by recording the angles α and β at one-second intervals. Your goal, back at air traffic control, is to determine the speed of the plane.\n",
    "\n",
    "Let the position of the plane at time t be given by (x(t), y(t)). The speed at time t is the magnitude of the velocity vector, ∥ d (x(t), y(t))∥ = 􏰇x′(t)2 + y′(t)2. The closed forms of the\n",
    "dt\n",
    "functions x(t) and y(t) are unknown (and may not exist at all), but we can still use numerical methods to estimate x′(t) and y′(t). For example, at t = 3, the second order centered difference quotient for x′(t) is\n",
    "x′(3)≈ x(3+h)−x(3−h) = 1(x(4)−x(2)). 2h 2\n",
    "\n",
    "In this case h = 1 since data comes in from the radar stations at 1 second intervals. Successive readings for α and β at integer times t = 7,8,...,14 are stored in the file plane.npy. Each row in the array represents a different reading; the columns are the observation time t, the angle α (in degrees), and the angle β (also in degrees), in that order. \n",
    "The Cartesian coordinates of the plane can be calculated from the angles α and β as follows.\n",
    "x(α,β)=a tan(β) y(α,β)=a tan(β)tan(α) (8.4)\n",
    "\n",
    "Load the data, convert α and β to radians, then compute the coordinates x(t) and y(t) at each given t using 8.4. Approximate x′(t) and y′(t) using a forward difference quotient for t = 7, a backward difference quotient for t = 14, and a centered difference quotient for t = 8, 9, . . . , 13 (see Figure 8.1). Return the values of the speed 􏰇x′(t)2 + y′(t)2 at each t.a\n",
    "(Hint: np.deg2rad() will be helpful.)"
   ]
  },
  {
   "cell_type": "code",
   "execution_count": 11,
   "metadata": {},
   "outputs": [
    {
     "data": {
      "text/plain": [
       "array([[ 7.  , 56.25, 67.54],\n",
       "       [ 8.  , 55.53, 66.57],\n",
       "       [ 9.  , 54.8 , 65.59],\n",
       "       [10.  , 54.06, 64.59],\n",
       "       [11.  , 53.34, 63.62],\n",
       "       [12.  , 52.69, 62.74],\n",
       "       [13.  , 51.94, 61.72],\n",
       "       [14.  , 51.28, 60.82]])"
      ]
     },
     "execution_count": 11,
     "metadata": {},
     "output_type": "execute_result"
    }
   ],
   "source": [
    "times = np.load('plane.npy')\n",
    "times"
   ]
  },
  {
   "cell_type": "code",
   "execution_count": 12,
   "metadata": {},
   "outputs": [],
   "source": [
    "rads_a = np.deg2rad(times[:, 1])\n",
    "rads_b = np.deg2rad(times[:, 2])\n",
    "\n",
    "times[:,1]=rads_a\n",
    "times[:,2]=rads_b"
   ]
  },
  {
   "cell_type": "code",
   "execution_count": 13,
   "metadata": {},
   "outputs": [],
   "source": [
    "def x_cords():\n",
    "    xlist = []\n",
    "    for i,j in zip(times[:,1],times[:,2]):\n",
    "        y = 500*((sy.tan(j))/(sy.tan(j)-sy.tan(i)))\n",
    "        xlist.append(y)\n",
    "    return xlist"
   ]
  },
  {
   "cell_type": "code",
   "execution_count": 14,
   "metadata": {},
   "outputs": [],
   "source": [
    "def y_cords():\n",
    "    ylist=[]\n",
    "    for i,j in zip(times[:,1],times[:,2]):\n",
    "        y = 500*((sy.tan(i)*sy.tan(j))/(sy.tan(j)-sy.tan(i)))\n",
    "        ylist.append(y)\n",
    "    return ylist"
   ]
  },
  {
   "cell_type": "code",
   "execution_count": 15,
   "metadata": {},
   "outputs": [
    {
     "data": {
      "text/html": [
       "<div>\n",
       "<style scoped>\n",
       "    .dataframe tbody tr th:only-of-type {\n",
       "        vertical-align: middle;\n",
       "    }\n",
       "\n",
       "    .dataframe tbody tr th {\n",
       "        vertical-align: top;\n",
       "    }\n",
       "\n",
       "    .dataframe thead th {\n",
       "        text-align: right;\n",
       "    }\n",
       "</style>\n",
       "<table border=\"1\" class=\"dataframe\">\n",
       "  <thead>\n",
       "    <tr style=\"text-align: right;\">\n",
       "      <th></th>\n",
       "      <th>T</th>\n",
       "      <th>Xco</th>\n",
       "      <th>Yco</th>\n",
       "    </tr>\n",
       "  </thead>\n",
       "  <tbody>\n",
       "    <tr>\n",
       "      <th>0</th>\n",
       "      <td>7.0</td>\n",
       "      <td>1311.27133660144</td>\n",
       "      <td>1962.45623877580</td>\n",
       "    </tr>\n",
       "    <tr>\n",
       "      <th>1</th>\n",
       "      <td>8.0</td>\n",
       "      <td>1355.93647620127</td>\n",
       "      <td>1975.11450516313</td>\n",
       "    </tr>\n",
       "    <tr>\n",
       "      <th>2</th>\n",
       "      <td>9.0</td>\n",
       "      <td>1401.91839832001</td>\n",
       "      <td>1987.34601606186</td>\n",
       "    </tr>\n",
       "    <tr>\n",
       "      <th>3</th>\n",
       "      <td>10.0</td>\n",
       "      <td>1450.49700629409</td>\n",
       "      <td>2000.84071299288</td>\n",
       "    </tr>\n",
       "    <tr>\n",
       "      <th>4</th>\n",
       "      <td>11.0</td>\n",
       "      <td>1498.64035029130</td>\n",
       "      <td>2013.51241079397</td>\n",
       "    </tr>\n",
       "    <tr>\n",
       "      <th>5</th>\n",
       "      <td>12.0</td>\n",
       "      <td>1543.79895461496</td>\n",
       "      <td>2025.79223350439</td>\n",
       "    </tr>\n",
       "    <tr>\n",
       "      <th>6</th>\n",
       "      <td>13.0</td>\n",
       "      <td>1598.04138183033</td>\n",
       "      <td>2040.99058265381</td>\n",
       "    </tr>\n",
       "    <tr>\n",
       "      <th>7</th>\n",
       "      <td>14.0</td>\n",
       "      <td>1647.59609290594</td>\n",
       "      <td>2055.06557068017</td>\n",
       "    </tr>\n",
       "  </tbody>\n",
       "</table>\n",
       "</div>"
      ],
      "text/plain": [
       "      T               Xco               Yco\n",
       "0   7.0  1311.27133660144  1962.45623877580\n",
       "1   8.0  1355.93647620127  1975.11450516313\n",
       "2   9.0  1401.91839832001  1987.34601606186\n",
       "3  10.0  1450.49700629409  2000.84071299288\n",
       "4  11.0  1498.64035029130  2013.51241079397\n",
       "5  12.0  1543.79895461496  2025.79223350439\n",
       "6  13.0  1598.04138183033  2040.99058265381\n",
       "7  14.0  1647.59609290594  2055.06557068017"
      ]
     },
     "execution_count": 15,
     "metadata": {},
     "output_type": "execute_result"
    }
   ],
   "source": [
    "coords = [[a,b,c] for a,b,c in zip(times[:,0],x_cords(),y_cords())]\n",
    "\n",
    "df = pd.DataFrame(coords, columns=['T','Xco','Yco'])\n",
    "df"
   ]
  },
  {
   "cell_type": "code",
   "execution_count": 17,
   "metadata": {},
   "outputs": [
    {
     "data": {
      "text/plain": [
       "{7.0: 1311.27133660144,\n",
       " 8.0: 1355.93647620127,\n",
       " 9.0: 1401.91839832001,\n",
       " 10.0: 1450.49700629409,\n",
       " 11.0: 1498.64035029130,\n",
       " 12.0: 1543.79895461496,\n",
       " 13.0: 1598.04138183033,\n",
       " 14.0: 1647.59609290594}"
      ]
     },
     "execution_count": 17,
     "metadata": {},
     "output_type": "execute_result"
    }
   ],
   "source": [
    "x_dict = dict(zip(df['T'], df['Xco']))\n",
    "y_dict = dict(zip(df['T'], df['Yco']))\n",
    "x_dict"
   ]
  },
  {
   "cell_type": "code",
   "execution_count": 21,
   "metadata": {},
   "outputs": [],
   "source": [
    "x_prime_list = []\n",
    "y_prime_list = []"
   ]
  },
  {
   "cell_type": "markdown",
   "metadata": {},
   "source": [
    "At T=7, using (f(x+h)-f(x))/h"
   ]
  },
  {
   "cell_type": "code",
   "execution_count": 22,
   "metadata": {},
   "outputs": [],
   "source": [
    "def ff1(t,h,dict):\n",
    "    a = (dict[t+h]-dict[t])/(h)\n",
    "    return a"
   ]
  },
  {
   "cell_type": "code",
   "execution_count": 23,
   "metadata": {},
   "outputs": [],
   "source": [
    "x_prime_7 = ff1(7,1,x_dict)\n",
    "x_prime_list.append(x_prime_7)"
   ]
  },
  {
   "cell_type": "code",
   "execution_count": 24,
   "metadata": {},
   "outputs": [],
   "source": [
    "y_prime_7 = ff1(7,1,y_dict)\n",
    "y_prime_list.append(y_prime_7)"
   ]
  },
  {
   "cell_type": "markdown",
   "metadata": {},
   "source": [
    "At T=8 to T=13, using (f(x+h)-f(x-h))/(2*h)"
   ]
  },
  {
   "cell_type": "code",
   "execution_count": 25,
   "metadata": {},
   "outputs": [],
   "source": [
    "def fc1_x(t,h,dict):\n",
    "    a = (dict[t+h]-dict[t-h])/(2*h)\n",
    "    x_prime_list.append(a)\n",
    "\n",
    "def fc1_y(t,h,dict):\n",
    "    a = (dict[t+h]-dict[t-h])/(2*h)\n",
    "    y_prime_list.append(a)"
   ]
  },
  {
   "cell_type": "code",
   "execution_count": 26,
   "metadata": {},
   "outputs": [],
   "source": [
    "for i in range(8,14):\n",
    "    fc1_x(i,1,x_dict)\n",
    "    \n",
    "for i in range(8,14):\n",
    "    fc1_y(i,1,y_dict)"
   ]
  },
  {
   "cell_type": "markdown",
   "metadata": {},
   "source": [
    "At T=14, using (f(x)-f(x-h))/h"
   ]
  },
  {
   "cell_type": "code",
   "execution_count": 27,
   "metadata": {},
   "outputs": [],
   "source": [
    "def fb1(t,h,dict):\n",
    "    a = (dict[t]-dict[t-h])/(h)\n",
    "    return a"
   ]
  },
  {
   "cell_type": "code",
   "execution_count": 28,
   "metadata": {},
   "outputs": [],
   "source": [
    "x_prime_14 = fb1(14,1,x_dict)\n",
    "x_prime_list.append(x_prime_14)\n",
    "\n",
    "y_prime_14 = fb1(14,1,y_dict)\n",
    "y_prime_list.append(y_prime_14)"
   ]
  },
  {
   "cell_type": "code",
   "execution_count": 29,
   "metadata": {},
   "outputs": [],
   "source": [
    "x_prime_dict = dict(zip(df['T'],x_prime_list))\n",
    "y_prime_dict = dict(zip(df['T'],y_prime_list))"
   ]
  },
  {
   "cell_type": "code",
   "execution_count": 30,
   "metadata": {},
   "outputs": [],
   "source": [
    "speeds = []\n",
    "def get_speed(t):\n",
    "    a = (((x_prime_dict[t])**2) + ((y_prime_dict[t])**2))**.5\n",
    "    speeds.append(a)\n",
    "    return speeds"
   ]
  },
  {
   "cell_type": "code",
   "execution_count": 31,
   "metadata": {},
   "outputs": [
    {
     "data": {
      "text/plain": [
       "[46.4242006221342,\n",
       " 47.0010393809530,\n",
       " 48.9988051403680,\n",
       " 50.0994416296528,\n",
       " 48.2903508382046,\n",
       " 51.5645590492726,\n",
       " 53.9230335450534,\n",
       " 51.5148005696357]"
      ]
     },
     "execution_count": 31,
     "metadata": {},
     "output_type": "execute_result"
    }
   ],
   "source": [
    "for i in range (7,15):\n",
    "    get_speed(i)\n",
    "\n",
    "speeds"
   ]
  },
  {
   "cell_type": "code",
   "execution_count": null,
   "metadata": {},
   "outputs": [],
   "source": []
  },
  {
   "cell_type": "markdown",
   "metadata": {},
   "source": [
    "Problem 5 \n",
    "\n",
    "Write a function that accepts a function f : Rn → Rm, a point x0 ∈ Rn, and a float h. Approximate the Jacobian matrix of f at x using the second order centered difference quotient in (8.5).\n",
    "(Hint: the standard basis vector ej is the jth column of the n × n identity matrix I.)\n",
    "To test your function, define a simple function like f(x,y) = [x2,x3 − y]T where the Jacobian is easy to find analytically, then check the results of your function against SymPy or your own scratch work."
   ]
  },
  {
   "cell_type": "code",
   "execution_count": null,
   "metadata": {},
   "outputs": [],
   "source": []
  },
  {
   "cell_type": "markdown",
   "metadata": {},
   "source": [
    "Problem 7\n",
    "\n",
    "Let f (x) = (sin(x) + 1)sin(cos(x)) as in Problems 1 and 3. Write a function that accepts an integer N and performs the following experiment N times"
   ]
  },
  {
   "cell_type": "markdown",
   "metadata": {},
   "source": [
    "1. Choose a random value x0."
   ]
  },
  {
   "cell_type": "code",
   "execution_count": 32,
   "metadata": {},
   "outputs": [],
   "source": [
    "import random\n",
    "import scipy.stats as sts\n",
    "\n",
    "N= 1000000\n",
    "xrands = sts.uniform.rvs(size=N)"
   ]
  },
  {
   "cell_type": "markdown",
   "metadata": {},
   "source": [
    "2. Use your function from Problem 1 to calculate the “exact” value of f′(x0). Time how long\n",
    "the entire process takes, including calling your function (each iteration)."
   ]
  },
  {
   "cell_type": "code",
   "execution_count": 33,
   "metadata": {},
   "outputs": [],
   "source": [
    "for i in xrands:\n",
    "    f_prime1(i)"
   ]
  },
  {
   "cell_type": "markdown",
   "metadata": {},
   "source": [
    "This took 25.38 seconds"
   ]
  },
  {
   "cell_type": "markdown",
   "metadata": {},
   "source": [
    "3. Time how long it takes to get an approximation f ̃′(x0) of f′(x0) using the fourth-order centered difference quotient from Problem 3. Record the absolute error |f′(x0) − f ̃′(x0)| of the approximation."
   ]
  },
  {
   "cell_type": "code",
   "execution_count": 34,
   "metadata": {},
   "outputs": [],
   "source": [
    "for i in xrands:\n",
    "    f_center2(f_x1,i,h)"
   ]
  },
  {
   "cell_type": "markdown",
   "metadata": {},
   "source": [
    "This took 19.06 seconds"
   ]
  },
  {
   "cell_type": "code",
   "execution_count": null,
   "metadata": {},
   "outputs": [],
   "source": []
  },
  {
   "cell_type": "markdown",
   "metadata": {},
   "source": [
    "# Numerical Intregration"
   ]
  },
  {
   "cell_type": "markdown",
   "metadata": {},
   "source": [
    "Exercise 2.1. You can verify that the analytical solution to the integral of the function \\begin{equation} g(x)=0.1x^4 -1.5x^3 + 0.53x^2 + 2x + 1 \\end{equation} between $x=-10$ and $x=10$ is $\\int_{-10}^{10} g(x)dx = 4,373.3\\bar{3}$. Write a Python function that will take as arguments an anonymous function that the user specifies representing $g(x)$, integration bounds $a$ and $b$, the number of intervals $N$, and\n",
    "\n",
    "method = {'midpoint', 'trapezoid', 'Simpsons'}\n",
    "Using the composite methods, evaluate the numerical approximations of the integral $\\int_a^b g(x)dx$ using all three Newton-Cotes methods in your function and compare the difference between the values of these integrals to the true analytical value of the integral."
   ]
  },
  {
   "cell_type": "code",
   "execution_count": 35,
   "metadata": {},
   "outputs": [
    {
     "data": {
      "text/plain": [
       "10.0"
      ]
     },
     "execution_count": 35,
     "metadata": {},
     "output_type": "execute_result"
    }
   ],
   "source": [
    "#Midpoint\n",
    "g_x = x\n",
    "\n",
    "def midpoint(a,b,N):\n",
    "    g_x1 = sy.lambdify(x,g_x)\n",
    "    mids_area = []\n",
    "    nodes = np.linspace(a,b,N+1)\n",
    "    for i in nodes[1:]:\n",
    "        y = ((b-a)/(N))*g_x1(i)\n",
    "        mids_area.append(y)\n",
    "    total_area = sum(mids_area)\n",
    "    return(total_area)\n",
    "\n",
    "midpoint(0,4,4)    "
   ]
  },
  {
   "cell_type": "code",
   "execution_count": 38,
   "metadata": {},
   "outputs": [
    {
     "name": "stdout",
     "output_type": "stream",
     "text": [
      "[0. 1. 2. 3. 4.]\n"
     ]
    },
    {
     "data": {
      "text/plain": [
       "44.0"
      ]
     },
     "execution_count": 38,
     "metadata": {},
     "output_type": "execute_result"
    }
   ],
   "source": [
    "#Trapezoid\n",
    "\n",
    "g_x = x**2\n",
    "\n",
    "def trap(a,b,N): \n",
    "    g_x1 = sy.lambdify(x,g_x)\n",
    "    mids_area = []\n",
    "    nodes = np.linspace(a,b,N+1)\n",
    "    print(nodes)\n",
    "    for i in nodes[1:]:\n",
    "        y = ((b-a)/N)*(g_x1(i)+g_x1(i-1))\n",
    "        mids_area.append(y)\n",
    "    total_area = sum(mids_area)\n",
    "    return(total_area)\n",
    "\n",
    "trap(0,4,4)"
   ]
  },
  {
   "cell_type": "markdown",
   "metadata": {},
   "source": [
    "a) Plot the absolute error of the difference between the approximated integral and the analytic integral for each of the three methods for different values of  𝑁  (number of bars). That is, create three different line plots--one for each Newton-Cotes rule--for which the  𝑥 -axis is different numbers of nodes and the  𝑦 -axis is the absolute approximation error for each number of nodes. Plot each of these lines for  𝑁=[20,21,22,...200] . You can create this vector with the code Nvec = np.arange(20, 201, 1)."
   ]
  },
  {
   "cell_type": "markdown",
   "metadata": {},
   "source": [
    "b) Why are the methods ranked the way they are? [Hint: It has to do with the original function g(x).] You might want to plot the function $g(x)$ between -10 and 10 to see what it looks like."
   ]
  },
  {
   "cell_type": "code",
   "execution_count": null,
   "metadata": {},
   "outputs": [],
   "source": []
  },
  {
   "cell_type": "markdown",
   "metadata": {},
   "source": [
    "Exercise 2.2. \n",
    "\n",
    "Write a Python function that makes a Newton-Cotes discrete approximation of the distribution of the normally distributed variable  𝑍∼𝑁(𝜇,𝜎) . Let this function take as arguments the mean  𝜇 , the standard deviation  𝜎 , the number of equally spaced nodes  𝑁  to estimate the distribution, and the number of standard deviations  𝑘  away from  𝜇  to make the furthest nodes on either side of  𝜇 . Use the scipy.stats.norm.cdf command for the cdf of the normal distribution to compute the weights  𝜔𝑛  for the nodes  𝑥𝑛 . Have this function return a vector of nodes of  [𝑍1,𝑍2,...𝑍𝑁]  and a vector of weights  [𝜔1,𝜔2,...𝜔𝑁]  such that  𝜔𝑖  is given by the integral under the normal distribution between the midpoints of the two closest nodes. Define  𝑓(𝑍;𝜇,𝜎)  as the pdf of the normal distribution and  𝐹(𝑍;𝜇,𝜎)  as the cdf.\n",
    "𝜔𝑖=𝐹(𝑍1+𝑍22;𝜇,𝜎)if𝑖=1∫𝑍𝑚𝑎𝑥𝑍𝑚𝑖𝑛𝑓(𝑍;𝜇,𝜎)𝑑𝑍if1<𝑖<𝑁1−𝐹(𝑍𝑁−1+𝑍𝑁2;𝜇,𝜎)if𝑖=𝑁where𝑍𝑚𝑖𝑛=𝑍𝑖−1+𝑍𝑖2and𝑍𝑚𝑎𝑥=𝑍𝑖+𝑍𝑖+12\n",
    " \n",
    "What are the weights and nodes  {𝜔𝑛,𝑍𝑛}𝑁𝑛=1  for  𝜇=5 ,  𝜎=1.5 , 𝑁=11 , and  𝑘=3 ?"
   ]
  },
  {
   "cell_type": "code",
   "execution_count": 37,
   "metadata": {},
   "outputs": [
    {
     "name": "stdout",
     "output_type": "stream",
     "text": [
      "[-2. -1.  0.  1.  2.]\n",
      "0.15865525393145707\n",
      "0.5\n",
      "0.8413447460685429\n",
      "0.9772498680518208\n"
     ]
    }
   ],
   "source": [
    "from scipy.stats import norm\n",
    "\n",
    "def norm_approx(u,k,N,sig):\n",
    "    d = np.random.normal(u, sig, 1000)\n",
    "    nodes = np.linspace((u-(k*sig)),(u+(k*sig)),N+1)\n",
    "    width = (2*k*sig)/(N)\n",
    "    print(nodes)\n",
    "    for i in nodes[1:]:\n",
    "        print(norm(u, sig).cdf(i))\n",
    "\n",
    "norm_approx(0,2,4,1)        "
   ]
  },
  {
   "cell_type": "code",
   "execution_count": null,
   "metadata": {},
   "outputs": [],
   "source": []
  },
  {
   "cell_type": "code",
   "execution_count": null,
   "metadata": {},
   "outputs": [],
   "source": []
  },
  {
   "cell_type": "code",
   "execution_count": null,
   "metadata": {},
   "outputs": [],
   "source": []
  },
  {
   "cell_type": "code",
   "execution_count": null,
   "metadata": {},
   "outputs": [],
   "source": []
  },
  {
   "cell_type": "code",
   "execution_count": null,
   "metadata": {},
   "outputs": [],
   "source": []
  },
  {
   "cell_type": "code",
   "execution_count": null,
   "metadata": {},
   "outputs": [],
   "source": []
  },
  {
   "cell_type": "code",
   "execution_count": null,
   "metadata": {},
   "outputs": [],
   "source": []
  },
  {
   "cell_type": "code",
   "execution_count": null,
   "metadata": {},
   "outputs": [],
   "source": []
  },
  {
   "cell_type": "code",
   "execution_count": null,
   "metadata": {},
   "outputs": [],
   "source": []
  },
  {
   "cell_type": "code",
   "execution_count": null,
   "metadata": {},
   "outputs": [],
   "source": []
  },
  {
   "cell_type": "code",
   "execution_count": null,
   "metadata": {},
   "outputs": [],
   "source": []
  }
 ],
 "metadata": {
  "kernelspec": {
   "display_name": "Python 3",
   "language": "python",
   "name": "python3"
  },
  "language_info": {
   "codemirror_mode": {
    "name": "ipython",
    "version": 3
   },
   "file_extension": ".py",
   "mimetype": "text/x-python",
   "name": "python",
   "nbconvert_exporter": "python",
   "pygments_lexer": "ipython3",
   "version": "3.7.0"
  }
 },
 "nbformat": 4,
 "nbformat_minor": 2
}
