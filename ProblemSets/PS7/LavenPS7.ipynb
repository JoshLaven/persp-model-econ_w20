{
 "cells": [
  {
   "cell_type": "markdown",
   "metadata": {},
   "source": [
    "# Question 1 - Multinomial logistic regression and cross validation (6 points)"
   ]
  },
  {
   "cell_type": "markdown",
   "metadata": {},
   "source": [
    "Multinomial logistic regression and cross validation (6 points). For this problem, you will estimate the probability that a given wine comes from a given cultivar. The data in the file strongdrink.txt (taken from the UCI Machine Learning Repository) are the results of a chemical analysis of 176 Italian wines from three known cultivars (a cultivar is a group of grapes selected for desirable characteristics that can be maintained by propagation). The chemical analysis determined the quantities of the following 13 different constituents (the last 13 variables):"
   ]
  },
  {
   "cell_type": "code",
   "execution_count": 12,
   "metadata": {},
   "outputs": [],
   "source": [
    "import numpy as np\n",
    "import pandas as pd\n",
    "from numpy import genfromtxt\n",
    "import sklearn\n",
    "from sklearn import preprocessing\n",
    "from sklearn.linear_model import LogisticRegression\n",
    "from sklearn.model_selection import train_test_split, LeaveOneOut, KFold\n",
    "from sklearn.metrics import classification_report, mean_squared_error\n",
    "from sklearn.metrics import confusion_matrix\n"
   ]
  },
  {
   "cell_type": "code",
   "execution_count": 13,
   "metadata": {},
   "outputs": [
    {
     "name": "stdout",
     "output_type": "stream",
     "text": [
      "(176, 14)\n"
     ]
    },
    {
     "data": {
      "text/html": [
       "<div>\n",
       "<style scoped>\n",
       "    .dataframe tbody tr th:only-of-type {\n",
       "        vertical-align: middle;\n",
       "    }\n",
       "\n",
       "    .dataframe tbody tr th {\n",
       "        vertical-align: top;\n",
       "    }\n",
       "\n",
       "    .dataframe thead th {\n",
       "        text-align: right;\n",
       "    }\n",
       "</style>\n",
       "<table border=\"1\" class=\"dataframe\">\n",
       "  <thead>\n",
       "    <tr style=\"text-align: right;\">\n",
       "      <th></th>\n",
       "      <th>cultivar</th>\n",
       "      <th>alco</th>\n",
       "      <th>malic</th>\n",
       "      <th>ash</th>\n",
       "      <th>alk</th>\n",
       "      <th>magn</th>\n",
       "      <th>tot_phen</th>\n",
       "      <th>flav</th>\n",
       "      <th>nonfl_phen</th>\n",
       "      <th>proanth</th>\n",
       "      <th>color_int</th>\n",
       "      <th>hue</th>\n",
       "      <th>OD280rat</th>\n",
       "      <th>proline</th>\n",
       "    </tr>\n",
       "  </thead>\n",
       "  <tbody>\n",
       "    <tr>\n",
       "      <th>0</th>\n",
       "      <td>1</td>\n",
       "      <td>14.23</td>\n",
       "      <td>1.71</td>\n",
       "      <td>2.43</td>\n",
       "      <td>15.6</td>\n",
       "      <td>127</td>\n",
       "      <td>2.80</td>\n",
       "      <td>3.06</td>\n",
       "      <td>0.28</td>\n",
       "      <td>2.29</td>\n",
       "      <td>5.64</td>\n",
       "      <td>1.04</td>\n",
       "      <td>3.92</td>\n",
       "      <td>1065</td>\n",
       "    </tr>\n",
       "    <tr>\n",
       "      <th>1</th>\n",
       "      <td>1</td>\n",
       "      <td>13.20</td>\n",
       "      <td>1.78</td>\n",
       "      <td>2.14</td>\n",
       "      <td>11.2</td>\n",
       "      <td>100</td>\n",
       "      <td>2.65</td>\n",
       "      <td>2.76</td>\n",
       "      <td>0.26</td>\n",
       "      <td>1.28</td>\n",
       "      <td>4.38</td>\n",
       "      <td>1.05</td>\n",
       "      <td>3.40</td>\n",
       "      <td>1050</td>\n",
       "    </tr>\n",
       "    <tr>\n",
       "      <th>2</th>\n",
       "      <td>1</td>\n",
       "      <td>13.16</td>\n",
       "      <td>2.36</td>\n",
       "      <td>2.67</td>\n",
       "      <td>18.6</td>\n",
       "      <td>101</td>\n",
       "      <td>2.80</td>\n",
       "      <td>3.24</td>\n",
       "      <td>0.30</td>\n",
       "      <td>2.81</td>\n",
       "      <td>5.68</td>\n",
       "      <td>1.03</td>\n",
       "      <td>3.17</td>\n",
       "      <td>1185</td>\n",
       "    </tr>\n",
       "    <tr>\n",
       "      <th>3</th>\n",
       "      <td>1</td>\n",
       "      <td>14.37</td>\n",
       "      <td>1.95</td>\n",
       "      <td>2.50</td>\n",
       "      <td>16.8</td>\n",
       "      <td>113</td>\n",
       "      <td>3.85</td>\n",
       "      <td>3.49</td>\n",
       "      <td>0.24</td>\n",
       "      <td>2.18</td>\n",
       "      <td>7.80</td>\n",
       "      <td>0.86</td>\n",
       "      <td>3.45</td>\n",
       "      <td>1480</td>\n",
       "    </tr>\n",
       "    <tr>\n",
       "      <th>4</th>\n",
       "      <td>1</td>\n",
       "      <td>13.24</td>\n",
       "      <td>2.59</td>\n",
       "      <td>2.87</td>\n",
       "      <td>21.0</td>\n",
       "      <td>118</td>\n",
       "      <td>2.80</td>\n",
       "      <td>2.69</td>\n",
       "      <td>0.39</td>\n",
       "      <td>1.82</td>\n",
       "      <td>4.32</td>\n",
       "      <td>1.04</td>\n",
       "      <td>2.93</td>\n",
       "      <td>735</td>\n",
       "    </tr>\n",
       "  </tbody>\n",
       "</table>\n",
       "</div>"
      ],
      "text/plain": [
       "   cultivar   alco  malic   ash   alk  magn  tot_phen  flav  nonfl_phen  \\\n",
       "0         1  14.23   1.71  2.43  15.6   127      2.80  3.06        0.28   \n",
       "1         1  13.20   1.78  2.14  11.2   100      2.65  2.76        0.26   \n",
       "2         1  13.16   2.36  2.67  18.6   101      2.80  3.24        0.30   \n",
       "3         1  14.37   1.95  2.50  16.8   113      3.85  3.49        0.24   \n",
       "4         1  13.24   2.59  2.87  21.0   118      2.80  2.69        0.39   \n",
       "\n",
       "   proanth  color_int   hue  OD280rat  proline  \n",
       "0     2.29       5.64  1.04      3.92     1065  \n",
       "1     1.28       4.38  1.05      3.40     1050  \n",
       "2     2.81       5.68  1.03      3.17     1185  \n",
       "3     2.18       7.80  0.86      3.45     1480  \n",
       "4     1.82       4.32  1.04      2.93      735  "
      ]
     },
     "execution_count": 13,
     "metadata": {},
     "output_type": "execute_result"
    }
   ],
   "source": [
    "wine=pd.read_csv('data/strongdrink.txt')\n",
    "print (wine.shape)\n",
    "wine.head()"
   ]
  },
  {
   "cell_type": "markdown",
   "metadata": {},
   "source": [
    "## a) \n",
    "Use a multinomial logistic regression model of the following form with the following linear predictor $n_j$ for j = 1, 2 (the baseline class is j = 3).\n",
    "\n",
    "$Pr(cultivar_i =j|X\\beta_j)=\\frac{e^{n_j}}{1+\\sum_{j=1}^{J-1}e^{n_j}}$ for j=1,2\n",
    "where $n_j = \\beta_{j,0} + \\beta_{j,1}alco_i + \\beta_{j,2}malic_i + \\beta_{j,3}totphen_i + \\beta_{j,4}colorint_i$\n",
    "\n",
    "Estimate the model on a 75% sample training set using the following command. Report your two sets of estimated coefficients and intercepts for j = 1 and j = 2 (not the coefficients for j = 3). Report your error rates (1 - precision) on the test set using the code below. Which category(ies) of cultivar is the model best at predicting? Is (are) the most accurately predicted category(ies) the one(s) with the most observations? Report the MSE from the test set.\n",
    "\n",
    "#### Answer\n",
    "\n",
    "The error rate for Cultivars 1, 2, and 3 is $0.13$, $0.0$ and $0.0$, respectively. The most accurately predicted category of Cultivar (100% precision and recall) is #3 , which is the category with the lowest number of observations in the original data, training set and test set. The Cultivars are labeled 1, 2 and 3, but those values do not describe their relation with one another (i.e the difference between Cultivar 1 and Cultivar 2 is the same as the difference between Cultivar 1 and Cultivar 3), so calculating the MSE by using $\\sum(y_{test} - y_{prediction})^2$ would not give an accurate description of the error. If we describe the MSE as the number of incorrect predictions divided by total predictions, it is $0.04545$"
   ]
  },
  {
   "cell_type": "code",
   "execution_count": 14,
   "metadata": {},
   "outputs": [],
   "source": [
    "#Split data\n",
    "X = wine[['alco','malic','tot_phen','color_int']]\n",
    "y = wine['cultivar']"
   ]
  },
  {
   "cell_type": "code",
   "execution_count": 15,
   "metadata": {},
   "outputs": [
    {
     "name": "stdout",
     "output_type": "stream",
     "text": [
      "Number of each Cultivar in original data: (array([1, 2, 3]), array([59, 71, 46]))\n",
      "Number of each Cultivar in test data: (array([1, 2, 3]), array([46, 50, 36]))\n",
      "Number of each Cultivar in test data: (array([1, 2, 3]), array([13, 21, 10]))\n"
     ]
    }
   ],
   "source": [
    "X_train, X_test, y_train, y_test = \\\n",
    "    train_test_split(X, y, test_size = 0.25,\n",
    "       random_state=20)\n",
    "\n",
    "#Count number of each cultivar in test set\n",
    "\n",
    "print('Number of each Cultivar in original data:' ,np.unique(y, return_counts=True))\n",
    "print('Number of each Cultivar in test data:' ,np.unique(y_train, return_counts=True))\n",
    "print('Number of each Cultivar in test data:' ,np.unique(y_test, return_counts=True))\n"
   ]
  },
  {
   "cell_type": "code",
   "execution_count": 16,
   "metadata": {},
   "outputs": [
    {
     "name": "stdout",
     "output_type": "stream",
     "text": [
      "The coefficients for Cultivar 1 are: [-1.46798523 -0.33305092  0.66400603 -0.92270882]\n",
      "The coefficients for Cultivar 2 are: [-0.2324475   0.59866064 -1.8879004   0.89996106]\n"
     ]
    }
   ],
   "source": [
    "LogReg = LogisticRegression(random_state=0, multi_class='multinomial',solver='newton-cg')\n",
    "LogReg.fit(X_train, y_train)\n",
    "y_pred = LogReg.predict(X_test)\n",
    "\n",
    "print('The coefficients for Cultivar 1 are:', LogReg.coef_[1])\n",
    "print('The coefficients for Cultivar 2 are:', LogReg.coef_[2])"
   ]
  },
  {
   "cell_type": "code",
   "execution_count": 17,
   "metadata": {},
   "outputs": [
    {
     "name": "stdout",
     "output_type": "stream",
     "text": [
      "[[13  0  0]\n",
      " [ 2 19  0]\n",
      " [ 0  0 10]]\n"
     ]
    }
   ],
   "source": [
    "from sklearn.metrics import confusion_matrix\n",
    "confusion_matrix = confusion_matrix(y_test, y_pred)\n",
    "print(confusion_matrix)"
   ]
  },
  {
   "cell_type": "code",
   "execution_count": 18,
   "metadata": {},
   "outputs": [
    {
     "name": "stdout",
     "output_type": "stream",
     "text": [
      "              precision    recall  f1-score   support\n",
      "\n",
      "           1       0.87      1.00      0.93        13\n",
      "           2       1.00      0.90      0.95        21\n",
      "           3       1.00      1.00      1.00        10\n",
      "\n",
      "   micro avg       0.95      0.95      0.95        44\n",
      "   macro avg       0.96      0.97      0.96        44\n",
      "weighted avg       0.96      0.95      0.96        44\n",
      "\n"
     ]
    }
   ],
   "source": [
    "print(classification_report(y_test, y_pred))"
   ]
  },
  {
   "cell_type": "code",
   "execution_count": 19,
   "metadata": {},
   "outputs": [
    {
     "name": "stdout",
     "output_type": "stream",
     "text": [
      "Cultivar 1 error rate = 0.13\n",
      "Cultivar 2 error rate = 0.0\n",
      "Cultivar 3 error rate = 0.0\n"
     ]
    }
   ],
   "source": [
    "print('Cultivar 1 error rate = 0.13')\n",
    "print('Cultivar 2 error rate = 0.0')\n",
    "print('Cultivar 3 error rate = 0.0')"
   ]
  },
  {
   "cell_type": "code",
   "execution_count": 20,
   "metadata": {},
   "outputs": [
    {
     "name": "stdout",
     "output_type": "stream",
     "text": [
      "The MSE from the test is: 0.045454545454545456\n"
     ]
    }
   ],
   "source": [
    "#Because the \n",
    "mse_test = np.sum(y_test != y_pred)/(y_pred.shape[0])\n",
    "\n",
    "print('The MSE from the test is:', mse_test)"
   ]
  },
  {
   "cell_type": "markdown",
   "metadata": {},
   "source": [
    "## b) \n",
    "Perform a leave-one-out cross validation (LOOCV) with the model from part (a). Report your error rates (1 - precision) for each category? How do your error rates compare to those from part (a)? Report your LOOCV estimate for the test MSE as the average MSE, where $y_i$ is the left out observation from each test set.\n",
    "\n",
    "$CV_{loo} = \\frac{1}{N}\\sum_{i=1}^{N}[1-I(y_i = \\hat{y_i})]$\n",
    "\n",
    "#### Answer\n",
    "The error rate for Cultivars 1, 2, and 3 is  $0.10$,  $0.09$  and  $0.04$, respectively. With respect to part (a), the error rate is lower for Cultivar 1 and higher for Cultivars 2 and 3. When taking into account both precision and recall, the loocv model also best predicts wines that are Cultivar 3. The MSE for the test set is $0.07955$"
   ]
  },
  {
   "cell_type": "code",
   "execution_count": 21,
   "metadata": {},
   "outputs": [
    {
     "name": "stdout",
     "output_type": "stream",
     "text": [
      "test estimate MSE loocv= 0.07954545454545454\n"
     ]
    }
   ],
   "source": [
    "Xvals = X.values\n",
    "yvals = y.values\n",
    "N_loo = Xvals.shape[0]\n",
    "loo = LeaveOneOut()\n",
    "loo.get_n_splits(Xvals)\n",
    "\n",
    "y_test_vec = np.zeros(N_loo)\n",
    "y_pred_vec = np.zeros(N_loo)\n",
    "\n",
    "for train_index, test_index in loo.split(Xvals):\n",
    "    X_trainb, X_testb = Xvals[train_index], Xvals[test_index]\n",
    "    y_trainb, y_testb = yvals[train_index], yvals[test_index]\n",
    "    LogReg = LogisticRegression(random_state=0, multi_class='multinomial',solver='newton-cg')\n",
    "    LogReg.fit(X_trainb, y_trainb)\n",
    "    y_predb = LogReg.predict(X_testb)\n",
    "    y_test_vec[test_index]=y_testb\n",
    "    y_pred_vec[test_index]=y_predb\n",
    "\n",
    "\n",
    "mse_test_loo = np.sum(y_test_vec != y_pred_vec)/(y_pred_vec.shape[0])\n",
    "\n",
    "print('test estimate MSE loocv=', mse_test_loo)\n"
   ]
  },
  {
   "cell_type": "code",
   "execution_count": 22,
   "metadata": {},
   "outputs": [
    {
     "data": {
      "text/plain": [
       "array([[55,  4,  0],\n",
       "       [ 5, 64,  2],\n",
       "       [ 1,  2, 43]])"
      ]
     },
     "execution_count": 22,
     "metadata": {},
     "output_type": "execute_result"
    }
   ],
   "source": [
    "from sklearn.metrics import confusion_matrix\n",
    "confusion_matrixloo = confusion_matrix(y_test_vec, y_pred_vec)\n",
    "confusion_matrixloo"
   ]
  },
  {
   "cell_type": "code",
   "execution_count": 23,
   "metadata": {},
   "outputs": [
    {
     "name": "stdout",
     "output_type": "stream",
     "text": [
      "              precision    recall  f1-score   support\n",
      "\n",
      "         1.0       0.90      0.93      0.92        59\n",
      "         2.0       0.91      0.90      0.91        71\n",
      "         3.0       0.96      0.93      0.95        46\n",
      "\n",
      "   micro avg       0.92      0.92      0.92       176\n",
      "   macro avg       0.92      0.92      0.92       176\n",
      "weighted avg       0.92      0.92      0.92       176\n",
      "\n"
     ]
    }
   ],
   "source": [
    "print(classification_report(y_test_vec, y_pred_vec))"
   ]
  },
  {
   "cell_type": "markdown",
   "metadata": {},
   "source": [
    "### c) \n",
    "Perform a k-fold cross validation in which the data are divided into k = 4 groups. Use the following code. Report your error rates (1 - precision) for each category. How do your error rates compare to those from parts (a) and (b)? Report your k-fold estimate for the test MSE as the average MSE.\n",
    "\n",
    "#### Answer\n",
    "The error rate for Cultivars 1, 2, and 3 is  $0.13$,  $0.09$  and  $0.04$, respectively. With respect to part (a), the error rate is lower for Cultivar 1 and higher for Cultivars 2 and 3. With respect to part (b), the error rate is higher or Cultivar 1 and the same for Cultivars 2 and 3. When taking into account both precision and recall, the k-fold model also best predicts wines that are Cultivar 3. The MSE for the test set is $0.09091$, higher than the models in part (a) and (b)."
   ]
  },
  {
   "cell_type": "code",
   "execution_count": 24,
   "metadata": {},
   "outputs": [
    {
     "name": "stdout",
     "output_type": "stream",
     "text": [
      "test estimate MSE k-fold = 0.09090909090909091\n"
     ]
    }
   ],
   "source": [
    "k = 4\n",
    "kf = KFold(n_splits=k, random_state=10, shuffle=True)\n",
    "kf.get_n_splits(Xvals)\n",
    "\n",
    "y_test_veck = np.zeros(N_loo)\n",
    "y_pred_veck = np.zeros(N_loo)\n",
    "\n",
    "k_ind = int(0)\n",
    "\n",
    "for train_index, test_index in kf.split(Xvals):\n",
    "    X_traink, X_testk = Xvals[train_index], Xvals[test_index]\n",
    "    y_traink, y_testk = yvals[train_index], yvals[test_index]\n",
    "    LogReg = LogisticRegression(random_state=0, multi_class='multinomial',solver='newton-cg')\n",
    "    LogReg.fit(X_traink, y_traink)\n",
    "    y_predk = LogReg.predict(X_testk)\n",
    "    y_test_veck[test_index] = y_testk\n",
    "    y_pred_veck[test_index] = y_predk\n",
    "    \n",
    "    # print('MSE for test set', k_ind, ' is', MSE_vec_kf[k_ind])\n",
    "    k_ind += 1\n",
    "\n",
    "mse_test_k = np.sum(y_test_veck != y_pred_veck)/(y_pred_veck.shape[0])\n",
    "\n",
    "print('test estimate MSE k-fold =', mse_test_k)"
   ]
  },
  {
   "cell_type": "code",
   "execution_count": 25,
   "metadata": {},
   "outputs": [
    {
     "data": {
      "text/plain": [
       "array([[55,  4,  0],\n",
       "       [ 7, 62,  2],\n",
       "       [ 1,  2, 43]])"
      ]
     },
     "execution_count": 25,
     "metadata": {},
     "output_type": "execute_result"
    }
   ],
   "source": [
    "confusion_matrixk = confusion_matrix(y_test_veck, y_pred_veck)\n",
    "confusion_matrixk"
   ]
  },
  {
   "cell_type": "code",
   "execution_count": 26,
   "metadata": {},
   "outputs": [
    {
     "name": "stdout",
     "output_type": "stream",
     "text": [
      "              precision    recall  f1-score   support\n",
      "\n",
      "         1.0       0.87      0.93      0.90        59\n",
      "         2.0       0.91      0.87      0.89        71\n",
      "         3.0       0.96      0.93      0.95        46\n",
      "\n",
      "   micro avg       0.91      0.91      0.91       176\n",
      "   macro avg       0.91      0.91      0.91       176\n",
      "weighted avg       0.91      0.91      0.91       176\n",
      "\n"
     ]
    }
   ],
   "source": [
    "print(classification_report(y_test_veck, y_pred_veck))"
   ]
  },
  {
   "cell_type": "markdown",
   "metadata": {},
   "source": [
    "# Question 2 - Splines and interpolation (4 points)"
   ]
  },
  {
   "cell_type": "markdown",
   "metadata": {},
   "source": [
    "A survey was conducted in the year 2019 in which a group of 20 American high school students ranked a representative sample of individuals according to coolness that could range from 0 to 100. The result was an aggregated score for each individual. They called this the Coolness Index. The data are in the comma-delimited data file CoolIndex.txt, where each row represents an individual in the sample (N = 956), the first column is the age of the individual, and the second column is the corresponding aggregated Coolness Index value."
   ]
  },
  {
   "cell_type": "code",
   "execution_count": 27,
   "metadata": {},
   "outputs": [
    {
     "name": "stdout",
     "output_type": "stream",
     "text": [
      "(956, 2)\n"
     ]
    }
   ],
   "source": [
    "cool = np.loadtxt('data/CoolIndex.txt',delimiter=\",\")\n",
    "print(cool.shape)"
   ]
  },
  {
   "cell_type": "markdown",
   "metadata": {},
   "source": [
    "### a) \n",
    "Create a scatterplot of the data with age on the x-axis and Coolness Index on the y-axis. Label your axes, and give the plot a title."
   ]
  },
  {
   "cell_type": "code",
   "execution_count": 28,
   "metadata": {},
   "outputs": [
    {
     "data": {
      "text/plain": [
       "Text(0, 0.5, 'Coolness')"
      ]
     },
     "execution_count": 28,
     "metadata": {},
     "output_type": "execute_result"
    },
    {
     "data": {
      "image/png": "[encoded data removed]",
      "text/plain": [
       "<Figure size 432x288 with 1 Axes>"
      ]
     },
     "metadata": {
      "needs_background": "light"
     },
     "output_type": "display_data"
    }
   ],
   "source": [
    "import matplotlib.pyplot as plt\n",
    "import seaborn as sb\n",
    "%matplotlib inline\n",
    "\n",
    "plt.scatter(cool[:,0], cool[:,1], alpha=0.7)\n",
    "plt.title('Coolness Index')\n",
    "plt.xlabel('Age')\n",
    "plt.ylabel('Coolness')"
   ]
  },
  {
   "cell_type": "markdown",
   "metadata": {},
   "source": [
    "### b) \n",
    "Use ordinary least squares (OLS) regression to fit a stepwise function to these data. Use 5 bins [11, 22), [22, 40), [40, 59), [59, 77), [77, 95]. Remember that your dummy variables must be integer type (0, 1), not boolean type (True, False). Plot this step function on top of the scatterplot of the data from part (a). Label your axes, include a legend, and give the plot a title. Report your estimated step function values for each bin\n",
    "[$\\beta_1, \\beta_2, \\beta_3, \\beta_4, \\beta_5$]. What is the predicted coolness of a 73-year old from the stepwise function?\n",
    "\n",
    "#### Answer\n",
    "The predicted coolness of a 73-year old from the stepwise function is $35.2254$"
   ]
  },
  {
   "cell_type": "code",
   "execution_count": 29,
   "metadata": {},
   "outputs": [],
   "source": [
    "cool_df = pd.DataFrame(cool, columns=('Age','Coolness'))\n",
    "\n",
    "bins = [11,22,40,59,77,100]\n",
    "bin_names=['1','2','3','4','5']\n",
    "\n",
    "cool_df['Bin'] = pd.cut(cool_df['Age'],bins, right=False, labels=bin_names)"
   ]
  },
  {
   "cell_type": "code",
   "execution_count": 30,
   "metadata": {},
   "outputs": [
    {
     "data": {
      "text/html": [
       "<div>\n",
       "<style scoped>\n",
       "    .dataframe tbody tr th:only-of-type {\n",
       "        vertical-align: middle;\n",
       "    }\n",
       "\n",
       "    .dataframe tbody tr th {\n",
       "        vertical-align: top;\n",
       "    }\n",
       "\n",
       "    .dataframe thead th {\n",
       "        text-align: right;\n",
       "    }\n",
       "</style>\n",
       "<table border=\"1\" class=\"dataframe\">\n",
       "  <thead>\n",
       "    <tr style=\"text-align: right;\">\n",
       "      <th></th>\n",
       "      <th>Age</th>\n",
       "      <th>Coolness</th>\n",
       "      <th>Bin_1</th>\n",
       "      <th>Bin_2</th>\n",
       "      <th>Bin_3</th>\n",
       "      <th>Bin_4</th>\n",
       "      <th>Bin_5</th>\n",
       "    </tr>\n",
       "  </thead>\n",
       "  <tbody>\n",
       "    <tr>\n",
       "      <th>0</th>\n",
       "      <td>11.0</td>\n",
       "      <td>10.981602</td>\n",
       "      <td>1</td>\n",
       "      <td>0</td>\n",
       "      <td>0</td>\n",
       "      <td>0</td>\n",
       "      <td>0</td>\n",
       "    </tr>\n",
       "    <tr>\n",
       "      <th>1</th>\n",
       "      <td>11.0</td>\n",
       "      <td>11.364925</td>\n",
       "      <td>1</td>\n",
       "      <td>0</td>\n",
       "      <td>0</td>\n",
       "      <td>0</td>\n",
       "      <td>0</td>\n",
       "    </tr>\n",
       "    <tr>\n",
       "      <th>2</th>\n",
       "      <td>11.0</td>\n",
       "      <td>10.190227</td>\n",
       "      <td>1</td>\n",
       "      <td>0</td>\n",
       "      <td>0</td>\n",
       "      <td>0</td>\n",
       "      <td>0</td>\n",
       "    </tr>\n",
       "    <tr>\n",
       "      <th>3</th>\n",
       "      <td>11.0</td>\n",
       "      <td>9.903725</td>\n",
       "      <td>1</td>\n",
       "      <td>0</td>\n",
       "      <td>0</td>\n",
       "      <td>0</td>\n",
       "      <td>0</td>\n",
       "    </tr>\n",
       "    <tr>\n",
       "      <th>4</th>\n",
       "      <td>11.0</td>\n",
       "      <td>8.997918</td>\n",
       "      <td>1</td>\n",
       "      <td>0</td>\n",
       "      <td>0</td>\n",
       "      <td>0</td>\n",
       "      <td>0</td>\n",
       "    </tr>\n",
       "  </tbody>\n",
       "</table>\n",
       "</div>"
      ],
      "text/plain": [
       "    Age   Coolness  Bin_1  Bin_2  Bin_3  Bin_4  Bin_5\n",
       "0  11.0  10.981602      1      0      0      0      0\n",
       "1  11.0  11.364925      1      0      0      0      0\n",
       "2  11.0  10.190227      1      0      0      0      0\n",
       "3  11.0   9.903725      1      0      0      0      0\n",
       "4  11.0   8.997918      1      0      0      0      0"
      ]
     },
     "execution_count": 30,
     "metadata": {},
     "output_type": "execute_result"
    }
   ],
   "source": [
    "cool_df_reg = pd.get_dummies(cool_df,columns=['Bin'])\n",
    "cool_df_reg.head()"
   ]
  },
  {
   "cell_type": "code",
   "execution_count": 31,
   "metadata": {},
   "outputs": [
    {
     "data": {
      "text/html": [
       "<table class=\"simpletable\">\n",
       "<caption>OLS Regression Results</caption>\n",
       "<tr>\n",
       "  <th>Dep. Variable:</th>        <td>Coolness</td>     <th>  R-squared:         </th> <td>   0.429</td> \n",
       "</tr>\n",
       "<tr>\n",
       "  <th>Model:</th>                   <td>OLS</td>       <th>  Adj. R-squared:    </th> <td>   0.427</td> \n",
       "</tr>\n",
       "<tr>\n",
       "  <th>Method:</th>             <td>Least Squares</td>  <th>  F-statistic:       </th> <td>   178.7</td> \n",
       "</tr>\n",
       "<tr>\n",
       "  <th>Date:</th>             <td>Wed, 26 Feb 2020</td> <th>  Prob (F-statistic):</th> <td>3.73e-114</td>\n",
       "</tr>\n",
       "<tr>\n",
       "  <th>Time:</th>                 <td>02:26:02</td>     <th>  Log-Likelihood:    </th> <td> -3214.5</td> \n",
       "</tr>\n",
       "<tr>\n",
       "  <th>No. Observations:</th>      <td>   956</td>      <th>  AIC:               </th> <td>   6439.</td> \n",
       "</tr>\n",
       "<tr>\n",
       "  <th>Df Residuals:</th>          <td>   951</td>      <th>  BIC:               </th> <td>   6463.</td> \n",
       "</tr>\n",
       "<tr>\n",
       "  <th>Df Model:</th>              <td>     4</td>      <th>                     </th>     <td> </td>    \n",
       "</tr>\n",
       "<tr>\n",
       "  <th>Covariance Type:</th>      <td>nonrobust</td>    <th>                     </th>     <td> </td>    \n",
       "</tr>\n",
       "</table>\n",
       "<table class=\"simpletable\">\n",
       "<tr>\n",
       "      <td></td>         <th>coef</th>     <th>std err</th>      <th>t</th>      <th>P>|t|</th>  <th>[0.025</th>    <th>0.975]</th>  \n",
       "</tr>\n",
       "<tr>\n",
       "  <th>Intercept</th> <td>   20.1025</td> <td>    0.562</td> <td>   35.746</td> <td> 0.000</td> <td>   18.999</td> <td>   21.206</td>\n",
       "</tr>\n",
       "<tr>\n",
       "  <th>Bin_2</th>     <td>   14.3733</td> <td>    0.708</td> <td>   20.287</td> <td> 0.000</td> <td>   12.983</td> <td>   15.764</td>\n",
       "</tr>\n",
       "<tr>\n",
       "  <th>Bin_3</th>     <td>   17.5326</td> <td>    0.704</td> <td>   24.899</td> <td> 0.000</td> <td>   16.151</td> <td>   18.915</td>\n",
       "</tr>\n",
       "<tr>\n",
       "  <th>Bin_4</th>     <td>   15.1229</td> <td>    0.743</td> <td>   20.356</td> <td> 0.000</td> <td>   13.665</td> <td>   16.581</td>\n",
       "</tr>\n",
       "<tr>\n",
       "  <th>Bin_5</th>     <td>    7.1939</td> <td>    1.092</td> <td>    6.590</td> <td> 0.000</td> <td>    5.052</td> <td>    9.336</td>\n",
       "</tr>\n",
       "</table>\n",
       "<table class=\"simpletable\">\n",
       "<tr>\n",
       "  <th>Omnibus:</th>       <td>80.102</td> <th>  Durbin-Watson:     </th> <td>   1.236</td>\n",
       "</tr>\n",
       "<tr>\n",
       "  <th>Prob(Omnibus):</th> <td> 0.000</td> <th>  Jarque-Bera (JB):  </th> <td> 101.718</td>\n",
       "</tr>\n",
       "<tr>\n",
       "  <th>Skew:</th>          <td> 0.714</td> <th>  Prob(JB):          </th> <td>8.17e-23</td>\n",
       "</tr>\n",
       "<tr>\n",
       "  <th>Kurtosis:</th>      <td> 3.719</td> <th>  Cond. No.          </th> <td>    6.80</td>\n",
       "</tr>\n",
       "</table><br/><br/>Warnings:<br/>[1] Standard Errors assume that the covariance matrix of the errors is correctly specified."
      ],
      "text/plain": [
       "<class 'statsmodels.iolib.summary.Summary'>\n",
       "\"\"\"\n",
       "                            OLS Regression Results                            \n",
       "==============================================================================\n",
       "Dep. Variable:               Coolness   R-squared:                       0.429\n",
       "Model:                            OLS   Adj. R-squared:                  0.427\n",
       "Method:                 Least Squares   F-statistic:                     178.7\n",
       "Date:                Wed, 26 Feb 2020   Prob (F-statistic):          3.73e-114\n",
       "Time:                        02:26:02   Log-Likelihood:                -3214.5\n",
       "No. Observations:                 956   AIC:                             6439.\n",
       "Df Residuals:                     951   BIC:                             6463.\n",
       "Df Model:                           4                                         \n",
       "Covariance Type:            nonrobust                                         \n",
       "==============================================================================\n",
       "                 coef    std err          t      P>|t|      [0.025      0.975]\n",
       "------------------------------------------------------------------------------\n",
       "Intercept     20.1025      0.562     35.746      0.000      18.999      21.206\n",
       "Bin_2         14.3733      0.708     20.287      0.000      12.983      15.764\n",
       "Bin_3         17.5326      0.704     24.899      0.000      16.151      18.915\n",
       "Bin_4         15.1229      0.743     20.356      0.000      13.665      16.581\n",
       "Bin_5          7.1939      1.092      6.590      0.000       5.052       9.336\n",
       "==============================================================================\n",
       "Omnibus:                       80.102   Durbin-Watson:                   1.236\n",
       "Prob(Omnibus):                  0.000   Jarque-Bera (JB):              101.718\n",
       "Skew:                           0.714   Prob(JB):                     8.17e-23\n",
       "Kurtosis:                       3.719   Cond. No.                         6.80\n",
       "==============================================================================\n",
       "\n",
       "Warnings:\n",
       "[1] Standard Errors assume that the covariance matrix of the errors is correctly specified.\n",
       "\"\"\""
      ]
     },
     "execution_count": 31,
     "metadata": {},
     "output_type": "execute_result"
    }
   ],
   "source": [
    "import statsmodels.api as sm\n",
    "import statsmodels.formula.api as smf\n",
    "\n",
    "coolreg = smf.ols(formula='Coolness ~ Bin_2+ Bin_3+ Bin_4+Bin_5',\n",
    "              data=cool_df_reg).fit()\n",
    "coolreg.summary()"
   ]
  },
  {
   "cell_type": "code",
   "execution_count": 33,
   "metadata": {},
   "outputs": [],
   "source": [
    "Age11 = coolreg.params[0]\n",
    "Age22 = coolreg.params[0] + coolreg.params[1]\n",
    "Age40 = coolreg.params[0] + coolreg.params[2]\n",
    "Age59 = coolreg.params[0] + coolreg.params[3]\n",
    "Age77 = coolreg.params[0] + coolreg.params[4]\n",
    "\n",
    "def add_step(x):\n",
    "    if x == '1':\n",
    "        return float(Age11)\n",
    "    elif x == '2':\n",
    "        return float(Age22)\n",
    "    elif x == '3':\n",
    "        return float(Age40)\n",
    "    elif x == '4':\n",
    "        return float(Age59)\n",
    "    else:\n",
    "        return float(Age77)"
   ]
  },
  {
   "cell_type": "code",
   "execution_count": 34,
   "metadata": {},
   "outputs": [],
   "source": [
    "cool_df['Step']= cool_df['Bin'].apply(add_step)"
   ]
  },
  {
   "cell_type": "code",
   "execution_count": 35,
   "metadata": {},
   "outputs": [
    {
     "data": {
      "text/plain": [
       "<matplotlib.legend.Legend at 0x1c1ee36400>"
      ]
     },
     "execution_count": 35,
     "metadata": {},
     "output_type": "execute_result"
    },
    {
     "data": {
      "image/png": "[encoded data removed]",
      "text/plain": [
       "<Figure size 432x288 with 1 Axes>"
      ]
     },
     "metadata": {
      "needs_background": "light"
     },
     "output_type": "display_data"
    }
   ],
   "source": [
    "plt.scatter(cool[:,0], cool[:,1], alpha=0.7, label='Original')\n",
    "plt.title('Coolness Index by Age Group')\n",
    "plt.xlabel('Age')\n",
    "plt.ylabel('Coolness')\n",
    "plt.scatter('Age','Step',data=cool_df, label='Binned Ages')\n",
    "plt.legend()"
   ]
  },
  {
   "cell_type": "code",
   "execution_count": 36,
   "metadata": {},
   "outputs": [
    {
     "name": "stdout",
     "output_type": "stream",
     "text": [
      "Coolness at 73 from OLS Stepwise =  35.22540004024273\n"
     ]
    }
   ],
   "source": [
    "print('Coolness at 73 from OLS Stepwise = ',\n",
    "      cool_df.loc[cool_df['Bin'] == str(int(np.digitize(73,bins))),'Step'][1])"
   ]
  },
  {
   "cell_type": "markdown",
   "metadata": {},
   "source": [
    "### c) \n",
    "Fit a linear spline (continuous) to the data over the 5 age bins from part (b). Use the scipy.interpolate.LSQUnivariateSpline function with k = 1 (linear) and the knots equal to t =[22,40,59,77]. Plot your continuous linear spline against a scatterplot of the data from part (a) and the estimated step function from part (b). Label your axes, include a legend, and give the plot a title. What is the predicted coolness of a 73-year old from the linear spline?\n",
    "\n",
    "#### Answer\n",
    "\n",
    "The predicted coolness of a 73-year old from the linear spline is $33.3241$"
   ]
  },
  {
   "cell_type": "code",
   "execution_count": 37,
   "metadata": {},
   "outputs": [],
   "source": [
    "from scipy.interpolate import LSQUnivariateSpline, UnivariateSpline\n",
    "import scipy.interpolate as si\n",
    "\n",
    "cool_func = si.interp1d(cool_df['Age'], cool_df['Coolness'])\n",
    "age_pts = np.linspace(cool_df['Age'].min(), cool_df['Age'].max(), 1000)\n",
    "cool_pts = cool_func(age_pts)\n",
    "\n",
    "t = [22,40,59,77]\n",
    "spl = LSQUnivariateSpline(age_pts, cool_pts, t,k=1)"
   ]
  },
  {
   "cell_type": "code",
   "execution_count": 38,
   "metadata": {},
   "outputs": [
    {
     "data": {
      "text/plain": [
       "<matplotlib.legend.Legend at 0x1c1ee964a8>"
      ]
     },
     "execution_count": 38,
     "metadata": {},
     "output_type": "execute_result"
    },
    {
     "data": {
      "image/png": "[encoded data removed]",
      "text/plain": [
       "<Figure size 432x288 with 1 Axes>"
      ]
     },
     "metadata": {
      "needs_background": "light"
     },
     "output_type": "display_data"
    }
   ],
   "source": [
    "plt.scatter('Age','Coolness',data=cool_df, alpha=0.7, label='Original Data')\n",
    "plt.scatter('Age','Step',data=cool_df, label='Binned Data')\n",
    "plt.plot(age_pts, spl(age_pts), 'g', lw=7, label = \"Linear Spline\")\n",
    "\n",
    "plt.title('Coolness Index by Age Group')\n",
    "plt.xlabel('Age')\n",
    "plt.ylabel('Coolness')\n",
    "plt.legend()"
   ]
  },
  {
   "cell_type": "code",
   "execution_count": 40,
   "metadata": {},
   "outputs": [
    {
     "name": "stdout",
     "output_type": "stream",
     "text": [
      "Coolness at 73 from Linear Spline =  33.324132239493906\n"
     ]
    }
   ],
   "source": [
    "#Coolness at 73\n",
    "cool73_lin = np.interp(73, age_pts, spl(age_pts))\n",
    "print('Coolness at 73 from Linear Spline = ',cool73_lin)"
   ]
  },
  {
   "cell_type": "code",
   "execution_count": null,
   "metadata": {},
   "outputs": [],
   "source": []
  },
  {
   "cell_type": "markdown",
   "metadata": {},
   "source": [
    "### d)\n",
    "Fit a cubic spline (continuous) to the data over the 5 age bins from part (b). Use the scipy.interpolate.LSQUnivariateSpline function with k = 3 (cubic) and the knots equal to t = [22,40,59,77]. Plot your continuous cubic spline against a scatterplot of the data from part (a) and the estimated step function from part (b), and the linear spline from part (c). Label your axes, include a legend, and give the plot a title. What is the predicted coolness of a 73-year old from the cubic spline?\n",
    "\n",
    "#### Answer\n",
    "\n",
    "The predicted coolness of a 73-year old from the cubic spline is $32.8368$"
   ]
  },
  {
   "cell_type": "code",
   "execution_count": 41,
   "metadata": {},
   "outputs": [],
   "source": [
    "spl2 = LSQUnivariateSpline(age_pts, cool_pts, t,k=3)"
   ]
  },
  {
   "cell_type": "code",
   "execution_count": 42,
   "metadata": {},
   "outputs": [
    {
     "data": {
      "text/plain": [
       "<matplotlib.legend.Legend at 0x1c1f00c518>"
      ]
     },
     "execution_count": 42,
     "metadata": {},
     "output_type": "execute_result"
    },
    {
     "data": {
      "image/png": "[encoded data removed]",
      "text/plain": [
       "<Figure size 432x288 with 1 Axes>"
      ]
     },
     "metadata": {
      "needs_background": "light"
     },
     "output_type": "display_data"
    }
   ],
   "source": [
    "plt.scatter('Age','Coolness',data=cool_df, alpha=0.7, label='Original Data')\n",
    "plt.scatter('Age','Step',data=cool_df, label='Binned Data')\n",
    "plt.plot(age_pts, spl(age_pts), 'g', lw=9, label = \"Linear Spline\")\n",
    "plt.plot(age_pts, spl2(age_pts), 'y', lw=5, label = \"Cubic Spline\")\n",
    "\n",
    "plt.title('Coolness Index by Age Group')\n",
    "plt.xlabel('Age')\n",
    "plt.ylabel('Coolness')\n",
    "plt.legend()"
   ]
  },
  {
   "cell_type": "code",
   "execution_count": 43,
   "metadata": {},
   "outputs": [
    {
     "name": "stdout",
     "output_type": "stream",
     "text": [
      "Coolness at 73 from Cubic Spline =  32.836794846349704\n"
     ]
    }
   ],
   "source": [
    "#Coolness at 73\n",
    "cool73_cub = np.interp(73, age_pts, spl2(age_pts))\n",
    "print('Coolness at 73 from Cubic Spline = ',cool73_cub)"
   ]
  },
  {
   "cell_type": "code",
   "execution_count": null,
   "metadata": {},
   "outputs": [],
   "source": []
  }
 ],
 "metadata": {
  "kernelspec": {
   "display_name": "Python 3",
   "language": "python",
   "name": "python3"
  },
  "language_info": {
   "codemirror_mode": {
    "name": "ipython",
    "version": 3
   },
   "file_extension": ".py",
   "mimetype": "text/x-python",
   "name": "python",
   "nbconvert_exporter": "python",
   "pygments_lexer": "ipython3",
   "version": "3.7.0"
  }
 },
 "nbformat": 4,
 "nbformat_minor": 2
}
