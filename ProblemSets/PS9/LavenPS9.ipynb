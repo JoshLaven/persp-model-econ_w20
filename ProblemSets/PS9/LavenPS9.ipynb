{
 "cells": [
  {
   "cell_type": "markdown",
   "metadata": {},
   "source": [
    "# Problem Set 9"
   ]
  },
  {
   "cell_type": "markdown",
   "metadata": {},
   "source": [
    "## Question 1 - Neural network horse race (10 points)\n",
    "For this problem, you will test the predictive accuracy of three models on classifying wines into one of three possible cultivars.The data in the file strongdrink.txt. You used these data in PS7, exercise 1. The data are comprised of 176 observations, each of which is a chemical analysis of an Italian wine. Each wine is from one of three known cultivars (a cultivar is a group of grapes selected for desirable characteristics that can be maintained by propagation). The chemical analysis determined the quantities of the following 13 different constituents (the last 13 variables)     "
   ]
  },
  {
   "cell_type": "markdown",
   "metadata": {},
   "source": [
    "### a) \n",
    "Create a scatterplot of the data where the x-variable is alcohol (alco) and the y-variable is color intensity (color int). Make the dot of each of the three possible cultivar types a different color. Make sure your plot has a legend."
   ]
  },
  {
   "cell_type": "code",
   "execution_count": 64,
   "metadata": {},
   "outputs": [],
   "source": [
    "import numpy as np\n",
    "import pandas as pd\n",
    "import seaborn as sns\n",
    "from sklearn.linear_model import LogisticRegression\n",
    "from sklearn.model_selection import train_test_split, LeaveOneOut, KFold\n",
    "from sklearn.model_selection import RandomizedSearchCV, GridSearchCV\n",
    "from scipy.stats import randint as sp_randint\n",
    "from scipy.stats import uniform as sp_uniform\n",
    "from sklearn.metrics import mean_squared_error\n",
    "from sklearn.tree import DecisionTreeRegressor, DecisionTreeClassifier\n",
    "from sklearn.ensemble import RandomForestRegressor\n",
    "from sklearn.ensemble import RandomForestClassifier\n",
    "from sklearn import svm\n",
    "from sklearn.neural_network import MLPClassifier"
   ]
  },
  {
   "cell_type": "code",
   "execution_count": 5,
   "metadata": {},
   "outputs": [
    {
     "data": {
      "text/html": [
       "<div>\n",
       "<style scoped>\n",
       "    .dataframe tbody tr th:only-of-type {\n",
       "        vertical-align: middle;\n",
       "    }\n",
       "\n",
       "    .dataframe tbody tr th {\n",
       "        vertical-align: top;\n",
       "    }\n",
       "\n",
       "    .dataframe thead th {\n",
       "        text-align: right;\n",
       "    }\n",
       "</style>\n",
       "<table border=\"1\" class=\"dataframe\">\n",
       "  <thead>\n",
       "    <tr style=\"text-align: right;\">\n",
       "      <th></th>\n",
       "      <th>cultivar</th>\n",
       "      <th>alco</th>\n",
       "      <th>malic</th>\n",
       "      <th>ash</th>\n",
       "      <th>alk</th>\n",
       "      <th>magn</th>\n",
       "      <th>tot_phen</th>\n",
       "      <th>flav</th>\n",
       "      <th>nonfl_phen</th>\n",
       "      <th>proanth</th>\n",
       "      <th>color_int</th>\n",
       "      <th>hue</th>\n",
       "      <th>OD280rat</th>\n",
       "      <th>proline</th>\n",
       "    </tr>\n",
       "  </thead>\n",
       "  <tbody>\n",
       "    <tr>\n",
       "      <th>0</th>\n",
       "      <td>1</td>\n",
       "      <td>14.23</td>\n",
       "      <td>1.71</td>\n",
       "      <td>2.43</td>\n",
       "      <td>15.6</td>\n",
       "      <td>127</td>\n",
       "      <td>2.80</td>\n",
       "      <td>3.06</td>\n",
       "      <td>0.28</td>\n",
       "      <td>2.29</td>\n",
       "      <td>5.64</td>\n",
       "      <td>1.04</td>\n",
       "      <td>3.92</td>\n",
       "      <td>1065</td>\n",
       "    </tr>\n",
       "    <tr>\n",
       "      <th>1</th>\n",
       "      <td>1</td>\n",
       "      <td>13.20</td>\n",
       "      <td>1.78</td>\n",
       "      <td>2.14</td>\n",
       "      <td>11.2</td>\n",
       "      <td>100</td>\n",
       "      <td>2.65</td>\n",
       "      <td>2.76</td>\n",
       "      <td>0.26</td>\n",
       "      <td>1.28</td>\n",
       "      <td>4.38</td>\n",
       "      <td>1.05</td>\n",
       "      <td>3.40</td>\n",
       "      <td>1050</td>\n",
       "    </tr>\n",
       "    <tr>\n",
       "      <th>2</th>\n",
       "      <td>1</td>\n",
       "      <td>13.16</td>\n",
       "      <td>2.36</td>\n",
       "      <td>2.67</td>\n",
       "      <td>18.6</td>\n",
       "      <td>101</td>\n",
       "      <td>2.80</td>\n",
       "      <td>3.24</td>\n",
       "      <td>0.30</td>\n",
       "      <td>2.81</td>\n",
       "      <td>5.68</td>\n",
       "      <td>1.03</td>\n",
       "      <td>3.17</td>\n",
       "      <td>1185</td>\n",
       "    </tr>\n",
       "    <tr>\n",
       "      <th>3</th>\n",
       "      <td>1</td>\n",
       "      <td>14.37</td>\n",
       "      <td>1.95</td>\n",
       "      <td>2.50</td>\n",
       "      <td>16.8</td>\n",
       "      <td>113</td>\n",
       "      <td>3.85</td>\n",
       "      <td>3.49</td>\n",
       "      <td>0.24</td>\n",
       "      <td>2.18</td>\n",
       "      <td>7.80</td>\n",
       "      <td>0.86</td>\n",
       "      <td>3.45</td>\n",
       "      <td>1480</td>\n",
       "    </tr>\n",
       "    <tr>\n",
       "      <th>4</th>\n",
       "      <td>1</td>\n",
       "      <td>13.24</td>\n",
       "      <td>2.59</td>\n",
       "      <td>2.87</td>\n",
       "      <td>21.0</td>\n",
       "      <td>118</td>\n",
       "      <td>2.80</td>\n",
       "      <td>2.69</td>\n",
       "      <td>0.39</td>\n",
       "      <td>1.82</td>\n",
       "      <td>4.32</td>\n",
       "      <td>1.04</td>\n",
       "      <td>2.93</td>\n",
       "      <td>735</td>\n",
       "    </tr>\n",
       "  </tbody>\n",
       "</table>\n",
       "</div>"
      ],
      "text/plain": [
       "   cultivar   alco  malic   ash   alk  magn  tot_phen  flav  nonfl_phen  \\\n",
       "0         1  14.23   1.71  2.43  15.6   127      2.80  3.06        0.28   \n",
       "1         1  13.20   1.78  2.14  11.2   100      2.65  2.76        0.26   \n",
       "2         1  13.16   2.36  2.67  18.6   101      2.80  3.24        0.30   \n",
       "3         1  14.37   1.95  2.50  16.8   113      3.85  3.49        0.24   \n",
       "4         1  13.24   2.59  2.87  21.0   118      2.80  2.69        0.39   \n",
       "\n",
       "   proanth  color_int   hue  OD280rat  proline  \n",
       "0     2.29       5.64  1.04      3.92     1065  \n",
       "1     1.28       4.38  1.05      3.40     1050  \n",
       "2     2.81       5.68  1.03      3.17     1185  \n",
       "3     2.18       7.80  0.86      3.45     1480  \n",
       "4     1.82       4.32  1.04      2.93      735  "
      ]
     },
     "execution_count": 5,
     "metadata": {},
     "output_type": "execute_result"
    }
   ],
   "source": [
    "drink = pd.read_csv('data/strongdrink.txt')\n",
    "drink.head()"
   ]
  },
  {
   "cell_type": "code",
   "execution_count": 6,
   "metadata": {},
   "outputs": [
    {
     "name": "stderr",
     "output_type": "stream",
     "text": [
      "/anaconda3/lib/python3.7/site-packages/seaborn/axisgrid.py:2065: UserWarning: The `size` parameter has been renamed to `height`; pleaes update your code.\n",
      "  warnings.warn(msg, UserWarning)\n"
     ]
    },
    {
     "data": {
      "text/plain": [
       "<seaborn.axisgrid.PairGrid at 0x1a1e233278>"
      ]
     },
     "execution_count": 6,
     "metadata": {},
     "output_type": "execute_result"
    },
    {
     "data": {
      "image/png": "[encoded data removed]",
      "text/plain": [
       "<Figure size 549.625x504 with 1 Axes>"
      ]
     },
     "metadata": {
      "needs_background": "light"
     },
     "output_type": "display_data"
    }
   ],
   "source": [
    "sns.pairplot(x_vars=\"alco\", y_vars=\"color_int\", data=drink, hue=\"cultivar\", plot_kws ={'s': 200},size=7)"
   ]
  },
  {
   "cell_type": "markdown",
   "metadata": {},
   "source": [
    "## b)\n",
    "Use sklearn.linear model.LogisticRegression to fit a multinomial logistic model of cultivar on features alcohol (alco), malic acid (malic), total phenols (tot phen), and color intensity (color int) with the following linear predictor.\n",
    "\n",
    "where $ηj = \\beta_{j,0} + \\beta_{j,0}alco_i + \\beta_{j,2}malic_i + \\beta_{j,3}tot phen_i + \\beta_{j,4}colorint_i$\n",
    "\n",
    "Use sklearn.model selection.RandomizedSearchCV to optimally tune\n",
    "the hyperparameters penalty and C in the Logistic regression model. Set\n",
    "n iter=200, n jobs=-1, cv=5 for k = 5 k-fold cross validation, random state=25, and scoring=’neg mean squared error’. This last option will allow you\n",
    "to compare the MSE of the optimized multinomial logit model (it will out-\n",
    "put the negative MSE). Set your parameter distributions over which to\n",
    "test random combinations to the following.\n",
    "\n",
    "<br>\n",
    "param_dist1 = {’penalty’: [’l1’, ’l2’] <br>\n",
    "             ’C’: sp_uniform(0.1, 10.0)}<br>\n",
    "             \n",
    "\n",
    "Report your optimal tuning parameter values (use the .best params object of your RandomizedSearchCV().fit(X, y)) results). Report the MSE of your optimal results (use the .best score object of your RandomizedSearchCV().fit(X, y)) results.\n",
    "\n",
    "\n",
    "\n",
    "### Answer\n",
    "\n",
    "The optimal tuning parameters are a penalty of 11 and a C of 2.6659. <br>\n",
    "The MSE of the model is 0.0739"
   ]
  },
  {
   "cell_type": "code",
   "execution_count": 37,
   "metadata": {},
   "outputs": [],
   "source": [
    "drink['const']=1\n",
    "\n",
    "x = drink[['const','alco','malic','tot_phen','color_int']].values\n",
    "y = drink['cultivar'].values"
   ]
  },
  {
   "cell_type": "code",
   "execution_count": 38,
   "metadata": {},
   "outputs": [
    {
     "name": "stderr",
     "output_type": "stream",
     "text": [
      "/anaconda3/lib/python3.7/site-packages/sklearn/linear_model/logistic.py:433: FutureWarning: Default solver will be changed to 'lbfgs' in 0.22. Specify a solver to silence this warning.\n",
      "  FutureWarning)\n",
      "/anaconda3/lib/python3.7/site-packages/sklearn/linear_model/logistic.py:460: FutureWarning: Default multi_class will be changed to 'auto' in 0.22. Specify the multi_class option to silence this warning.\n",
      "  \"this warning.\", FutureWarning)\n"
     ]
    },
    {
     "data": {
      "text/plain": [
       "LogisticRegression(C=1.0, class_weight=None, dual=False, fit_intercept=True,\n",
       "          intercept_scaling=1, max_iter=100, multi_class='warn',\n",
       "          n_jobs=None, penalty='l2', random_state=None, solver='warn',\n",
       "          tol=0.0001, verbose=0, warm_start=False)"
      ]
     },
     "execution_count": 38,
     "metadata": {},
     "output_type": "execute_result"
    }
   ],
   "source": [
    "#Create object\n",
    "LogReg = LogisticRegression()\n",
    "LogReg.fit(x,y)"
   ]
  },
  {
   "cell_type": "code",
   "execution_count": 39,
   "metadata": {},
   "outputs": [
    {
     "name": "stdout",
     "output_type": "stream",
     "text": [
      "LogRegBestEstimator1= LogisticRegression(C=2.665871587495725, class_weight=None, dual=False,\n",
      "          fit_intercept=True, intercept_scaling=1, max_iter=100,\n",
      "          multi_class='warn', n_jobs=None, penalty='l1', random_state=None,\n",
      "          solver='warn', tol=0.0001, verbose=0, warm_start=False)\n",
      "LogRegParams1= {'C': 2.665871587495725, 'penalty': 'l1'}\n",
      "LogRegBestScore1= 0.11931818181818182\n"
     ]
    },
    {
     "name": "stderr",
     "output_type": "stream",
     "text": [
      "/anaconda3/lib/python3.7/site-packages/sklearn/model_selection/_search.py:841: DeprecationWarning: The default of the `iid` parameter will change from True to False in version 0.22 and will be removed in 0.24. This will change numeric results when test-set sizes are unequal.\n",
      "  DeprecationWarning)\n",
      "/anaconda3/lib/python3.7/site-packages/sklearn/linear_model/logistic.py:433: FutureWarning: Default solver will be changed to 'lbfgs' in 0.22. Specify a solver to silence this warning.\n",
      "  FutureWarning)\n",
      "/anaconda3/lib/python3.7/site-packages/sklearn/linear_model/logistic.py:460: FutureWarning: Default multi_class will be changed to 'auto' in 0.22. Specify the multi_class option to silence this warning.\n",
      "  \"this warning.\", FutureWarning)\n",
      "/anaconda3/lib/python3.7/site-packages/sklearn/svm/base.py:922: ConvergenceWarning: Liblinear failed to converge, increase the number of iterations.\n",
      "  \"the number of iterations.\", ConvergenceWarning)\n"
     ]
    }
   ],
   "source": [
    "#Tune hyperparameters\n",
    "param_log = {'penalty': ['l1', 'l2'],\n",
    "             'C': sp_uniform(0.1, 10.0)}\n",
    "\n",
    "log_tune = RandomizedSearchCV(LogReg, param_distributions=param_log,\n",
    "                                    n_iter=200, n_jobs=-1, cv=5,\n",
    "                                   random_state=25,scoring='neg_mean_squared_error')\n",
    "\n",
    "log_tune.fit(x, y)\n",
    "print('LogRegBestEstimator1=', log_tune.best_estimator_)\n",
    "print('LogRegParams1=', log_tune.best_params_)\n",
    "print('LogRegBestScore1=', -log_tune.best_score_)"
   ]
  },
  {
   "cell_type": "code",
   "execution_count": 63,
   "metadata": {},
   "outputs": [
    {
     "name": "stdout",
     "output_type": "stream",
     "text": [
      "Log Reg MSE= 0.07386363636363637\n"
     ]
    },
    {
     "name": "stderr",
     "output_type": "stream",
     "text": [
      "/anaconda3/lib/python3.7/site-packages/sklearn/linear_model/logistic.py:433: FutureWarning: Default solver will be changed to 'lbfgs' in 0.22. Specify a solver to silence this warning.\n",
      "  FutureWarning)\n",
      "/anaconda3/lib/python3.7/site-packages/sklearn/linear_model/logistic.py:460: FutureWarning: Default multi_class will be changed to 'auto' in 0.22. Specify the multi_class option to silence this warning.\n",
      "  \"this warning.\", FutureWarning)\n",
      "/anaconda3/lib/python3.7/site-packages/sklearn/svm/base.py:922: ConvergenceWarning: Liblinear failed to converge, increase the number of iterations.\n",
      "  \"the number of iterations.\", ConvergenceWarning)\n"
     ]
    }
   ],
   "source": [
    "#Use optimal parameters\n",
    "log_reg_opt = LogisticRegression(penalty='l1', C= 2.665871587495725)\n",
    "log_reg_opt.fit(x,y)\n",
    "\n",
    "y_pred_logreg = log_reg_opt.predict(x)\n",
    "MSE_logreg = mean_squared_error(y, y_pred_logreg)\n",
    "print('Log Reg MSE=', MSE_logreg)"
   ]
  },
  {
   "cell_type": "markdown",
   "metadata": {},
   "source": [
    "## c) \n",
    "Use sklearn.ensemble.RandomForestClassifier to fit a random forest model of cultivar on the same four features used in part (b). Use sklearn.model selection.RandomizedSearchCV to optimally tune the hyperparameters in the random forest classification model. Tune the pa- rameters n estimators, max depth, min samples split, min samples leaf, and max features. Set n iter=200, n jobs=-1, cv=5 for k = 5 k-fold cross validation, random state=25, and scoring=’neg mean squared error’. Set your Random Forest parameter distributions over which to test random combinations to the following. <br>\n",
    "\n",
    "param_dist2 = {’n_estimators’: sp_randint(10, 200),<br>\n",
    "             ’max_depth’: sp_rand_int(2, 4),<br>\n",
    "             ’min_samples_split’: sp_randint(2, 20),<br>\n",
    "             ’min_samples_leaf’: sp_randint(2, 20),<br>\n",
    "             ’max_features’: sp_randint(1, 4)}<br>\n",
    "             \n",
    "Report your optimal tuning parameter values (use the .best params object of your RandomizedSearchCV().fit(X, y)) results). Report the MSE of your optimal results (use the .best score object of your RandomizedSearchCV().fit(X, y)) results.\n",
    "\n",
    "### Answer\n",
    "\n",
    "The optimal tuning parameters are a max_depth of 3, max_features of 1, min_samples_leaf of 2, min_samples_split of 11, n_estimators of 10. <br>\n",
    "The MSE for the random forest model is 0.1196"
   ]
  },
  {
   "cell_type": "code",
   "execution_count": 45,
   "metadata": {},
   "outputs": [
    {
     "name": "stderr",
     "output_type": "stream",
     "text": [
      "/anaconda3/lib/python3.7/site-packages/sklearn/ensemble/forest.py:246: FutureWarning: The default value of n_estimators will change from 10 in version 0.20 to 100 in 0.22.\n",
      "  \"10 in version 0.20 to 100 in 0.22.\", FutureWarning)\n"
     ]
    },
    {
     "data": {
      "text/plain": [
       "RandomForestClassifier(bootstrap=True, class_weight=None, criterion='gini',\n",
       "            max_depth=None, max_features='auto', max_leaf_nodes=None,\n",
       "            min_impurity_decrease=0.0, min_impurity_split=None,\n",
       "            min_samples_leaf=1, min_samples_split=2,\n",
       "            min_weight_fraction_leaf=0.0, n_estimators=10, n_jobs=None,\n",
       "            oob_score=False, random_state=None, verbose=0,\n",
       "            warm_start=False)"
      ]
     },
     "execution_count": 45,
     "metadata": {},
     "output_type": "execute_result"
    }
   ],
   "source": [
    "rf = RandomForestClassifier()\n",
    "rf.fit(x,y)"
   ]
  },
  {
   "cell_type": "code",
   "execution_count": 48,
   "metadata": {},
   "outputs": [
    {
     "name": "stdout",
     "output_type": "stream",
     "text": [
      "rf_tuneBestEstimator= RandomForestClassifier(bootstrap=True, class_weight=None, criterion='gini',\n",
      "            max_depth=3, max_features=1, max_leaf_nodes=None,\n",
      "            min_impurity_decrease=0.0, min_impurity_split=None,\n",
      "            min_samples_leaf=2, min_samples_split=11,\n",
      "            min_weight_fraction_leaf=0.0, n_estimators=10, n_jobs=None,\n",
      "            oob_score=False, random_state=None, verbose=0,\n",
      "            warm_start=False)\n",
      "rf_tuneBestParams= {'max_depth': 3, 'max_features': 1, 'min_samples_leaf': 2, 'min_samples_split': 11, 'n_estimators': 10}\n",
      "rf_tuneBestScore1= 0.125\n"
     ]
    },
    {
     "name": "stderr",
     "output_type": "stream",
     "text": [
      "/anaconda3/lib/python3.7/site-packages/sklearn/model_selection/_search.py:841: DeprecationWarning: The default of the `iid` parameter will change from True to False in version 0.22 and will be removed in 0.24. This will change numeric results when test-set sizes are unequal.\n",
      "  DeprecationWarning)\n"
     ]
    }
   ],
   "source": [
    "#Tune hyperparameters\n",
    "param_rf = {'n_estimators': [10,200],\n",
    "                   'max_depth': sp_randint(2, 4),'min_samples_split': sp_randint(2, 20),\n",
    "                   'min_samples_leaf': sp_randint(2, 20),'max_features':sp_randint(1,4)}\n",
    "\n",
    "rf_tune = RandomizedSearchCV(rf, param_distributions=param_rf,\n",
    "                             n_iter=200, n_jobs=-1, cv=5,random_state=25,\n",
    "                             scoring='neg_mean_squared_error')\n",
    "\n",
    "rf_tune.fit(x,y)\n",
    "print('rf_tuneBestEstimator=', rf_tune.best_estimator_)\n",
    "print('rf_tuneBestParams=', rf_tune.best_params_)\n",
    "print('rf_tuneBestScore1=', -rf_tune.best_score_)"
   ]
  },
  {
   "cell_type": "code",
   "execution_count": 62,
   "metadata": {},
   "outputs": [
    {
     "name": "stdout",
     "output_type": "stream",
     "text": [
      "Random Forest MSE - Random Forest 0.11961489191720479\n"
     ]
    },
    {
     "name": "stderr",
     "output_type": "stream",
     "text": [
      "/anaconda3/lib/python3.7/site-packages/sklearn/ensemble/forest.py:732: UserWarning: Some inputs do not have OOB scores. This probably means too few trees were used to compute any reliable oob estimates.\n",
      "  warn(\"Some inputs do not have OOB scores. \"\n"
     ]
    }
   ],
   "source": [
    "#Run new Random Forest with optimal parameters\n",
    "\n",
    "rf_opt = RandomForestRegressor(n_estimators=10, max_depth=3, min_samples_split=11, min_samples_leaf=2,\n",
    "                                     max_features=1, bootstrap=True,\n",
    "                                     n_jobs=-1, oob_score=True, random_state=25)\n",
    "\n",
    "\n",
    "rf_opt.fit(x,y)\n",
    "\n",
    "y_testpred_rf = rf_opt.predict(x)\n",
    "MSE_rf = mean_squared_error(y, y_testpred_rf)\n",
    "print(\"Random Forest MSE - Random Forest\",MSE_rf)"
   ]
  },
  {
   "cell_type": "markdown",
   "metadata": {},
   "source": [
    "## d) \n",
    "Use sklearn.svm.SVC to fit a support vector machines classifier model of cultivar with a Gaussian radial basis function kernel kernel=’rbf’ on the four features used in parts (b) and (c). Use sklearn.modelselection.RandomizedSearchCV to optimally tune the hyperparameters in the support vector machines classifier model. Tune the parameters C penalty parameter, gamma kernel coefficient, and shrinking.\n",
    "Set n iter=200, n jobs=-1, cv=5 for k = 5 k-fold cross validation, random state=25, and scoring=’neg mean squared error’. Set your SVM parameter dis- tributions over which to test random combinations to the following.<br>\n",
    "\n",
    "param_dist3 = {’C’: sp_uniform(loc=0.1, scale=10.0),<br>\n",
    "             ’gamma’: [’scale’, ’auto’],<br>\n",
    "             ’shrinking’: [True, False]}<br>\n",
    "\n",
    "Report your optimal tuning parameter values (use the .best params object of your RandomizedSearchCV().fit(X, y)) results). Report the MSE of your optimal results (use the .best score object of your RandomizedSearchCV().fit(X, y)) results.\n",
    "\n",
    "### Answer\n",
    "The optimal tuning parameters are: a regularization parameter (C) of 3.3605, a gamma that is scaled, and using shrinking.\n",
    "The MSE for this model is 0.07955\n"
   ]
  },
  {
   "cell_type": "code",
   "execution_count": 56,
   "metadata": {},
   "outputs": [
    {
     "name": "stderr",
     "output_type": "stream",
     "text": [
      "/anaconda3/lib/python3.7/site-packages/sklearn/svm/base.py:196: FutureWarning: The default value of gamma will change from 'auto' to 'scale' in version 0.22 to account better for unscaled features. Set gamma explicitly to 'auto' or 'scale' to avoid this warning.\n",
      "  \"avoid this warning.\", FutureWarning)\n"
     ]
    },
    {
     "data": {
      "text/plain": [
       "SVC(C=1.0, cache_size=200, class_weight=None, coef0=0.0,\n",
       "  decision_function_shape='ovr', degree=3, gamma='auto_deprecated',\n",
       "  kernel='rbf', max_iter=-1, probability=False, random_state=None,\n",
       "  shrinking=True, tol=0.001, verbose=False)"
      ]
     },
     "execution_count": 56,
     "metadata": {},
     "output_type": "execute_result"
    }
   ],
   "source": [
    "svm_drink = svm.SVC()\n",
    "svm_drink.fit(x,y)"
   ]
  },
  {
   "cell_type": "code",
   "execution_count": 57,
   "metadata": {},
   "outputs": [
    {
     "name": "stdout",
     "output_type": "stream",
     "text": [
      "TunedBestEstimator1= SVC(C=3.3605112613782553, cache_size=200, class_weight=None, coef0=0.0,\n",
      "  decision_function_shape='ovr', degree=3, gamma='scale', kernel='rbf',\n",
      "  max_iter=-1, probability=False, random_state=None, shrinking=True,\n",
      "  tol=0.001, verbose=False)\n",
      "TunedBestParams1= {'C': 3.3605112613782553, 'gamma': 'scale', 'shrinking': True}\n",
      "TunedBestScore1= 0.1534090909090909\n"
     ]
    },
    {
     "name": "stderr",
     "output_type": "stream",
     "text": [
      "/anaconda3/lib/python3.7/site-packages/sklearn/model_selection/_search.py:841: DeprecationWarning: The default of the `iid` parameter will change from True to False in version 0.22 and will be removed in 0.24. This will change numeric results when test-set sizes are unequal.\n",
      "  DeprecationWarning)\n"
     ]
    }
   ],
   "source": [
    "#Tune hyperparameters\n",
    "param_svm = {'C': sp_uniform(loc=0.1, scale=10.0),\n",
    "             'gamma': ['scale', 'auto'],\n",
    "             'shrinking': [True, False]}\n",
    "\n",
    "svm_tune = RandomizedSearchCV(svm_drink, param_distributions=param_svm,\n",
    "                                    n_iter=200, n_jobs=-1, cv=5,\n",
    "                                   random_state=25,scoring='neg_mean_squared_error')\n",
    "\n",
    "svm_tune.fit(x,y)\n",
    "\n",
    "print('TunedBestEstimator1=', svm_tune.best_estimator_)\n",
    "print('TunedBestParams1=', svm_tune.best_params_)\n",
    "print('TunedBestScore1=', -svm_tune.best_score_)"
   ]
  },
  {
   "cell_type": "code",
   "execution_count": 61,
   "metadata": {},
   "outputs": [
    {
     "name": "stdout",
     "output_type": "stream",
     "text": [
      "SVM MSE 0.07954545454545454\n"
     ]
    }
   ],
   "source": [
    "#Run with optimal parameters\n",
    "\n",
    "svm_opt = svm.SVC(kernel='rbf', gamma='scale', C=3.3605112613782553,shrinking=True)\n",
    "svm_opt.fit(x,y)\n",
    "\n",
    "y_testpred_svm = svm_opt.predict(x)\n",
    "MSE_svm = mean_squared_error(y,y_testpred_svm)\n",
    "print(\"SVM MSE\",MSE_svm)"
   ]
  },
  {
   "cell_type": "markdown",
   "metadata": {},
   "source": [
    "## e) \n",
    "Use sklearn.neural network.MLPClassifier to fit a multiple hidden layer neural network (multiple layer perceptron) model of cultivar. Use sklearn.model selection.RandomizedSearchCV to optimally tune the hyperparameters in the MLP classifier model. Tune the parameters hidden layer sizes, activation, and alpha. Set n iter=200, n jobs=-1, cv=5 for k = 5 k-fold\n",
    "cross validation, random state=25, and scoring=’neg mean squared error’. Set your MLP parameter distributions over which to test random combi- nations to the following. <br>\n",
    "\n",
    "param_dist4 = {’hidden_layer_sizes’: sp_randint(1, 100),<br>\n",
    "             ’activation’: [’logistic’, ’relu’],<br>\n",
    "             ’alpha’: sp_uniform(0.1, 10.0)}<br>\n",
    "\n",
    "Report your optimal tuning parameter values (use the .best params ob- ject of your RandomizedSearchCV().fit(X, y)) results). Report the MSE of your optimal results (use the .best score object of your RandomizedSearchCV().fit(X, y)) results.\n",
    "\n",
    "### Answer\n",
    "The optimal tuning parameters are: a hidden layer size of 93, the 'relu' activation function, and an alpha of 1.2079.\n",
    "The MSE for this model is 0.0568"
   ]
  },
  {
   "cell_type": "code",
   "execution_count": 66,
   "metadata": {},
   "outputs": [
    {
     "data": {
      "text/plain": [
       "MLPClassifier(activation='tanh', alpha=0.1, batch_size='auto', beta_1=0.9,\n",
       "       beta_2=0.999, early_stopping=False, epsilon=1e-08,\n",
       "       hidden_layer_sizes=(100,), learning_rate='constant',\n",
       "       learning_rate_init=0.001, max_iter=200, momentum=0.9,\n",
       "       n_iter_no_change=10, nesterovs_momentum=True, power_t=0.5,\n",
       "       random_state=None, shuffle=True, solver='lbfgs', tol=0.0001,\n",
       "       validation_fraction=0.1, verbose=False, warm_start=False)"
      ]
     },
     "execution_count": 66,
     "metadata": {},
     "output_type": "execute_result"
    }
   ],
   "source": [
    "clf_mlp = MLPClassifier(activation='tanh', solver='lbfgs', alpha=0.1)\n",
    "clf_mlp.fit(x, y)"
   ]
  },
  {
   "cell_type": "code",
   "execution_count": 68,
   "metadata": {},
   "outputs": [
    {
     "name": "stdout",
     "output_type": "stream",
     "text": [
      "NeuralBestEstimator= MLPClassifier(activation='relu', alpha=1.2079463985549488, batch_size='auto',\n",
      "       beta_1=0.9, beta_2=0.999, early_stopping=False, epsilon=1e-08,\n",
      "       hidden_layer_sizes=93, learning_rate='constant',\n",
      "       learning_rate_init=0.001, max_iter=200, momentum=0.9,\n",
      "       n_iter_no_change=10, nesterovs_momentum=True, power_t=0.5,\n",
      "       random_state=None, shuffle=True, solver='lbfgs', tol=0.0001,\n",
      "       validation_fraction=0.1, verbose=False, warm_start=False)\n",
      "NeuralBestParams= {'activation': 'relu', 'alpha': 1.2079463985549488, 'hidden_layer_sizes': 93}\n",
      "NeuralBestScore= 0.07954545454545454\n"
     ]
    },
    {
     "name": "stderr",
     "output_type": "stream",
     "text": [
      "/anaconda3/lib/python3.7/site-packages/sklearn/model_selection/_search.py:841: DeprecationWarning: The default of the `iid` parameter will change from True to False in version 0.22 and will be removed in 0.24. This will change numeric results when test-set sizes are unequal.\n",
      "  DeprecationWarning)\n"
     ]
    }
   ],
   "source": [
    "#Tune hyperparameters\n",
    "param_neural = {'hidden_layer_sizes': sp_randint(1, 100),\n",
    "             'activation': ['logistic', 'relu'],\n",
    "             'alpha': sp_uniform(0.1, 10.0)}\n",
    "\n",
    "neural_tune = RandomizedSearchCV(clf_mlp, param_distributions=param_neural,\n",
    "                                    n_iter=200, n_jobs=-1, cv=5,\n",
    "                                   random_state=25,scoring='neg_mean_squared_error')\n",
    "\n",
    "neural_tune.fit(x,y)\n",
    "\n",
    "print('NeuralBestEstimator=', neural_tune.best_estimator_)\n",
    "print('NeuralBestParams=', neural_tune.best_params_)\n",
    "print('NeuralBestScore=', -neural_tune.best_score_)"
   ]
  },
  {
   "cell_type": "code",
   "execution_count": 70,
   "metadata": {},
   "outputs": [
    {
     "name": "stdout",
     "output_type": "stream",
     "text": [
      "Neural MSE 0.056818181818181816\n"
     ]
    }
   ],
   "source": [
    "clf_mlp_opt = MLPClassifier(hidden_layer_sizes= 93, activation='relu', solver='lbfgs', alpha=1.2079463985549488)\n",
    "\n",
    "clf_mlp_opt.fit(x,y)\n",
    "\n",
    "y_testpred_neural = clf_mlp_opt.predict(x)\n",
    "MSE_neural = mean_squared_error(y,y_testpred_neural)\n",
    "print(\"Neural MSE\",MSE_neural)"
   ]
  },
  {
   "cell_type": "markdown",
   "metadata": {},
   "source": [
    "## f) \n",
    "Which of the above three models do you think is the best predictor of cultivar? Why?\n",
    "\n",
    "### Answer\n",
    "The Neural Net (e) has the lowest MSE, so there's good reason to believe that model would best predict cultivar type given the features from the dataset."
   ]
  },
  {
   "cell_type": "code",
   "execution_count": 71,
   "metadata": {},
   "outputs": [
    {
     "data": {
      "text/html": [
       "<div>\n",
       "<style scoped>\n",
       "    .dataframe tbody tr th:only-of-type {\n",
       "        vertical-align: middle;\n",
       "    }\n",
       "\n",
       "    .dataframe tbody tr th {\n",
       "        vertical-align: top;\n",
       "    }\n",
       "\n",
       "    .dataframe thead th {\n",
       "        text-align: right;\n",
       "    }\n",
       "</style>\n",
       "<table border=\"1\" class=\"dataframe\">\n",
       "  <thead>\n",
       "    <tr style=\"text-align: right;\">\n",
       "      <th></th>\n",
       "      <th>Logistic Regression (b)</th>\n",
       "      <th>Random Forest (c)</th>\n",
       "      <th>Support Vector Machines (d)</th>\n",
       "      <th>Neural Network (d)</th>\n",
       "    </tr>\n",
       "  </thead>\n",
       "  <tbody>\n",
       "    <tr>\n",
       "      <th>MSE</th>\n",
       "      <td>0.073864</td>\n",
       "      <td>0.119615</td>\n",
       "      <td>0.079545</td>\n",
       "      <td>0.056818</td>\n",
       "    </tr>\n",
       "  </tbody>\n",
       "</table>\n",
       "</div>"
      ],
      "text/plain": [
       "     Logistic Regression (b)  Random Forest (c)  Support Vector Machines (d)  \\\n",
       "MSE                 0.073864           0.119615                     0.079545   \n",
       "\n",
       "     Neural Network (d)  \n",
       "MSE            0.056818  "
      ]
     },
     "execution_count": 71,
     "metadata": {},
     "output_type": "execute_result"
    }
   ],
   "source": [
    "results = pd.DataFrame({'Logistic Regression (b)':MSE_logreg,\n",
    "                        'Random Forest (c)':MSE_rf,\n",
    "                        'Support Vector Machines (d)':MSE_svm,\n",
    "                       'Neural Network (d)': MSE_neural},\n",
    "                       index=['MSE'])\n",
    "results"
   ]
  }
 ],
 "metadata": {
  "kernelspec": {
   "display_name": "Python 3",
   "language": "python",
   "name": "python3"
  },
  "language_info": {
   "codemirror_mode": {
    "name": "ipython",
    "version": 3
   },
   "file_extension": ".py",
   "mimetype": "text/x-python",
   "name": "python",
   "nbconvert_exporter": "python",
   "pygments_lexer": "ipython3",
   "version": "3.7.0"
  }
 },
 "nbformat": 4,
 "nbformat_minor": 2
}
