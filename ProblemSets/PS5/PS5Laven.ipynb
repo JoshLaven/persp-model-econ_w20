{
 "cells": [
  {
   "cell_type": "code",
   "execution_count": 61,
   "metadata": {},
   "outputs": [],
   "source": [
    "import numpy as np\n",
    "import numpy.linalg as lin\n",
    "import scipy.stats as sts\n",
    "import scipy.integrate as intgr\n",
    "import scipy.optimize as opt\n",
    "import matplotlib\n",
    "import matplotlib.pyplot as plt\n",
    "%matplotlib notebook\n",
    "%matplotlib inline"
   ]
  },
  {
   "cell_type": "code",
   "execution_count": 62,
   "metadata": {},
   "outputs": [],
   "source": [
    "dta = np.loadtxt('data/incomes.txt')"
   ]
  },
  {
   "cell_type": "code",
   "execution_count": null,
   "metadata": {},
   "outputs": [],
   "source": []
  },
  {
   "cell_type": "markdown",
   "metadata": {},
   "source": [
    "### a)\n",
    "Plot a histogram of percentages of the income.txt data with 30 bins. Make sure that the bins are weighted using the density=True option. Make sure your plot has correct x-axis and y-axis labels as well as a plot title."
   ]
  },
  {
   "cell_type": "code",
   "execution_count": 63,
   "metadata": {},
   "outputs": [
    {
     "data": {
      "text/plain": [
       "(0, 150000)"
      ]
     },
     "execution_count": 63,
     "metadata": {},
     "output_type": "execute_result"
    },
    {
     "data": {
      "image/png": "[encoded data removed]",
      "text/plain": [
       "<Figure size 432x288 with 1 Axes>"
      ]
     },
     "metadata": {
      "needs_background": "light"
     },
     "output_type": "display_data"
    }
   ],
   "source": [
    "num_bins = 30\n",
    "count, bins, ignored = plt.hist(dta, num_bins, density=True,\n",
    "                                edgecolor='k')\n",
    "plt.title('Income Data', fontsize=20)\n",
    "plt.xlabel(r'Income')\n",
    "plt.ylabel(r'Percent of Incomes')\n",
    "plt.xlim([0, 150000])"
   ]
  },
  {
   "cell_type": "markdown",
   "metadata": {},
   "source": [
    "### b)\n",
    "Estimate the parameters of the lognormal distribution by generalized method of moments. Use the average income and standard deviation of income as your two moments. Use the identity matrix as your weighting matrix $\\hat{W}$ . Plot your estimated lognormal PDF against the histogram from part (a). Report the value of your GMM criterion function at the estimated parameter values. Report and compare your two data moments against your two model moments at the estimated parameter values.\n"
   ]
  },
  {
   "cell_type": "code",
   "execution_count": 187,
   "metadata": {},
   "outputs": [],
   "source": [
    "mu_init = 11\n",
    "sig_init = .5\n",
    "cut_lb = 0\n",
    "cut_ub = 150000"
   ]
  },
  {
   "cell_type": "code",
   "execution_count": 188,
   "metadata": {},
   "outputs": [],
   "source": [
    "def log_norm(x,mu,sigma, cut_lb, cut_ub):\n",
    "    if cut_ub == 'None' and cut_lb == 'None':\n",
    "        prob_notcut = 1.0\n",
    "    elif cut_ub == 'None' and cut_lb != 'None':\n",
    "        prob_notcut = 1.0 - sts.norm.cdf(cut_lb, loc=mu, scale=sigma)\n",
    "    elif cut_ub != 'None' and cut_lb == 'None':\n",
    "        prob_notcut = sts.norm.cdf(cut_ub, loc=mu, scale=sigma)\n",
    "    elif cut_ub != 'None' and cut_lb != 'None':\n",
    "        prob_notcut = (sts.norm.cdf(cut_ub, loc=mu, scale=sigma) -\n",
    "                       sts.norm.cdf(cut_lb, loc=mu, scale=sigma))\n",
    "    pdf_vals = ((1/(x*sigma * np.sqrt(2 * np.pi)) *\n",
    "                    np.exp( - (np.log(x) - mu)**2 / (2 * sigma**2))))/(prob_notcut)\n",
    "    return pdf_vals"
   ]
  },
  {
   "cell_type": "code",
   "execution_count": 194,
   "metadata": {},
   "outputs": [],
   "source": [
    "def data_moments(xvals):\n",
    "\n",
    "    mean_data = xvals.mean()\n",
    "    var_data = xvals.var()\n",
    "    \n",
    "    return mean_data, var_data\n",
    "\n",
    "\n",
    "def model_moments(mu, sigma,cut_lb, cut_ub):\n",
    "    xfx = lambda x: x * log_norm(x, mu, sigma,cut_lb, cut_ub)\n",
    "    (mean_model, m_m_err) = intgr.quad(xfx, cut_lb, cut_ub)\n",
    "    x2fx = lambda x: ((x - mean_model) ** 2) * log_norm(x, mu, sigma,cut_lb, cut_ub) \n",
    "    (var_model, v_m_err) = intgr.quad(x2fx, cut_lb, cut_ub)\n",
    "    \n",
    "    return mean_model, var_model #mean and variance of model distributions\n",
    "\n",
    "\n",
    "def err_vec(xvals, mu, sigma,cut_lb, cut_ub, simple):\n",
    "    mean_data, var_data = data_moments(xvals)\n",
    "    moms_data = np.array([[mean_data], [var_data]])\n",
    "    mean_model, var_model = model_moments(mu, sigma,cut_lb, cut_ub)\n",
    "    moms_model = np.array([[mean_model], [var_model]])\n",
    "    if simple:\n",
    "        err_vec = moms_model - moms_data\n",
    "    else:\n",
    "        err_vec = (moms_model - moms_data) / moms_data\n",
    "    \n",
    "    return err_vec\n",
    "\n",
    "\n",
    "def criterion(params, *args):\n",
    "    mu, sigma = params\n",
    "    xvals,cut_lb, cut_ub, W = args\n",
    "    err = err_vec(xvals, mu, sigma,cut_lb, cut_ub,simple=False)\n",
    "    crit_val = err.T @ W @ err\n",
    "    \n",
    "    return crit_val"
   ]
  },
  {
   "cell_type": "code",
   "execution_count": 195,
   "metadata": {},
   "outputs": [
    {
     "name": "stdout",
     "output_type": "stream",
     "text": [
      "mu_GMM1= 11.336909418504783  sig_GMM1= 0.21302747638067634\n"
     ]
    },
    {
     "data": {
      "text/plain": [
       "      fun: array([[4.73980413e-12]])\n",
       " hess_inv: <2x2 LbfgsInvHessProduct with dtype=float64>\n",
       "      jac: array([4.14893283e-06, 3.39760877e-05])\n",
       "  message: b'CONVERGENCE: REL_REDUCTION_OF_F_<=_FACTR*EPSMCH'\n",
       "     nfev: 51\n",
       "      nit: 10\n",
       "   status: 0\n",
       "  success: True\n",
       "        x: array([11.33690942,  0.21302748])"
      ]
     },
     "execution_count": 195,
     "metadata": {},
     "output_type": "execute_result"
    }
   ],
   "source": [
    "params_init = np.array([mu_init, sig_init])\n",
    "W_hat = np.eye(2)\n",
    "gmm_args = (dta,cut_lb, cut_ub, W_hat)\n",
    "results = opt.minimize(criterion, params_init, args=(gmm_args),\n",
    "                       tol=1e-7, method='L-BFGS-B',\n",
    "                       bounds=((1e-10, None), (1e-10, None)))\n",
    "mu_GMM1, sig_GMM1 = results.x\n",
    "print('mu_GMM1=', mu_GMM1, ' sig_GMM1=', sig_GMM1)\n",
    "results"
   ]
  },
  {
   "cell_type": "code",
   "execution_count": 197,
   "metadata": {},
   "outputs": [
    {
     "data": {
      "text/plain": [
       "[<matplotlib.lines.Line2D at 0x1a22e60358>]"
      ]
     },
     "execution_count": 197,
     "metadata": {},
     "output_type": "execute_result"
    },
    {
     "data": {
      "image/png": "[encoded data removed]",
      "text/plain": [
       "<Figure size 432x288 with 1 Axes>"
      ]
     },
     "metadata": {
      "needs_background": "light"
     },
     "output_type": "display_data"
    }
   ],
   "source": [
    "#Graph\n",
    "x_pts = np.linspace(.01,150000,1000)\n",
    "#Histogram\n",
    "num_bins = 30\n",
    "count, bins, ignored = plt.hist(dta, num_bins, density=True,\n",
    "                                edgecolor='k')\n",
    "plt.title('Income Data', fontsize=20)\n",
    "plt.xlabel(r'Income')\n",
    "plt.ylabel(r'Percent of Incomes')\n",
    "plt.xlim([0, 150000])\n",
    "\n",
    "#Original Estimates\n",
    "plt.plot(x_pts,log_norm(x_pts,mu_init,sig_init,cut_lb, cut_ub),linewidth=4, color='g')\n",
    "\n",
    "#GMM Estimates\n",
    "plt.plot(x_pts,log_norm(x_pts,mu_GMM1,sig_GMM1,cut_lb, cut_ub),linewidth=4, color='r')"
   ]
  },
  {
   "cell_type": "code",
   "execution_count": 198,
   "metadata": {},
   "outputs": [
    {
     "name": "stdout",
     "output_type": "stream",
     "text": [
      "Mean of points = 85276.82360625811 , Variance of points = 323731572.2295289\n",
      "Mean of model = 85276.75011779145 , Variance of model = 323732219.4633936\n",
      "Error vector= [-8.61763649e-07  1.99929176e-06]\n"
     ]
    },
    {
     "data": {
      "text/plain": [
       "      fun: array([[4.73980413e-12]])\n",
       " hess_inv: <2x2 LbfgsInvHessProduct with dtype=float64>\n",
       "      jac: array([4.14893283e-06, 3.39760877e-05])\n",
       "  message: b'CONVERGENCE: REL_REDUCTION_OF_F_<=_FACTR*EPSMCH'\n",
       "     nfev: 51\n",
       "      nit: 10\n",
       "   status: 0\n",
       "  success: True\n",
       "        x: array([11.33690942,  0.21302748])"
      ]
     },
     "execution_count": 198,
     "metadata": {},
     "output_type": "execute_result"
    }
   ],
   "source": [
    "mean_data, var_data = data_moments(dta)\n",
    "mean_model, var_model = model_moments(mu_GMM1, sig_GMM1,cut_lb, cut_ub)\n",
    "err1 = err_vec(dta, mu_GMM1, sig_GMM1,cut_lb, cut_ub,False).reshape(2,)\n",
    "print('Mean of points =', mean_data, ', Variance of points =', var_data)\n",
    "print('Mean of model =', mean_model, ', Variance of model =', var_model)\n",
    "print('Error vector=', err1)\n",
    "results"
   ]
  },
  {
   "cell_type": "code",
   "execution_count": 203,
   "metadata": {},
   "outputs": [],
   "source": [
    "def Jac_err2(xvals, mu, sigma,cut_lb, cut_ub,simple=False):\n",
    "    '''\n",
    "    This function computes the Jacobian matrix of partial derivatives of the R x 1 moment\n",
    "    error vector e(x|theta) with respect to the K parameters theta_i in the K x 1 parameter vector\n",
    "    theta. The resulting matrix is R x K Jacobian.\n",
    "    '''\n",
    "    Jac_err = np.zeros((2, 2))\n",
    "    h_mu = 1e-8 * mu\n",
    "    h_sig = 1e-8 * sigma\n",
    "    Jac_err[:, 0] = \\\n",
    "        ((err_vec(xvals, mu + h_mu, sigma,cut_lb, cut_ub,simple) -\n",
    "          err_vec(xvals, mu - h_mu, sigma,cut_lb, cut_ub, simple)) / (2 * h_mu)).flatten()\n",
    "    Jac_err[:, 1] = \\\n",
    "        ((err_vec(xvals, mu, sigma + h_sig,cut_lb, cut_ub, simple) -\n",
    "          err_vec(xvals, mu, sigma - h_sig,cut_lb, cut_ub, simple)) / (2 * h_sig)).flatten()\n",
    "    \n",
    "    return Jac_err"
   ]
  },
  {
   "cell_type": "code",
   "execution_count": 204,
   "metadata": {},
   "outputs": [
    {
     "name": "stdout",
     "output_type": "stream",
     "text": [
      "[[ 0.92059837 -0.02062006]\n",
      " [ 1.42719666  8.31522325]]\n",
      "[[1. 0.]\n",
      " [0. 1.]]\n",
      "[[ 0.00585463 -0.00100326]\n",
      " [-0.00100326  0.00024423]]\n",
      "Std. err. mu_hat= 0.07651555493357863\n",
      "Std. err. sig_hat= 0.01562793512204918\n"
     ]
    }
   ],
   "source": [
    "N = dta.shape[0]\n",
    "d_err2 = Jac_err2(dta, mu_GMM1, sig_GMM1,cut_lb, cut_ub,False)\n",
    "print(d_err2)\n",
    "print(W_hat)\n",
    "SigHat2 = (1 / N) * lin.inv(d_err2.T @ W_hat @ d_err2)\n",
    "print(SigHat2)\n",
    "print('Std. err. mu_hat=', np.sqrt(SigHat2[0, 0]))\n",
    "print('Std. err. sig_hat=', np.sqrt(SigHat2[1, 1]))"
   ]
  },
  {
   "cell_type": "markdown",
   "metadata": {},
   "source": [
    "### c) \n",
    "Perform the two-step GMM estimator by using your estimates from part (b) with two moments to generate an estimator for the variance covariance matrix $\\hat{\\Omega}_{2 step}$, which you then use to get the two-step estimator for the optimal weighting matrix $\\hat{W}_{2 step}$. Report your estimates as well as the criterion function value at these estimates. Plot your estimated lognormal PDF against the histogram from part (a) and the estimated PDF from part (b). Report and compare your two data moments against your two model moments at the estimated parameter values."
   ]
  },
  {
   "cell_type": "code",
   "execution_count": 206,
   "metadata": {},
   "outputs": [],
   "source": [
    "def weight_2(xvals, mu, sigma,cut_lb, cut_ub,simple=False):\n",
    "    R = 2\n",
    "    N = len(dta)\n",
    "    Err_mat = np.zeros((R, N))\n",
    "    mean_model, var_model = model_moments(mu, sigma,cut_lb, cut_ub)\n",
    "    if simple:\n",
    "        Err_mat[0, :] = xvals - mean_model\n",
    "        Err_mat[1, :] = ((mean_data - xvals) ** 2) - var_model\n",
    "    else:\n",
    "        Err_mat[0, :] = (xvals - mean_model) / mean_model\n",
    "        Err_mat[1, :] = (((mean_data - xvals) ** 2) - var_model) / var_model\n",
    "    \n",
    "    return Err_mat"
   ]
  },
  {
   "cell_type": "code",
   "execution_count": 207,
   "metadata": {},
   "outputs": [
    {
     "name": "stdout",
     "output_type": "stream",
     "text": [
      "[[0.04451678 0.09358605]\n",
      " [0.09358605 1.94755883]]\n",
      "[[24.98769853 -1.200734  ]\n",
      " [-1.200734    0.57116219]]\n"
     ]
    }
   ],
   "source": [
    "Err_mat = weight_2(dta, mu_GMM1, sig_GMM1, cut_lb, cut_ub,False)\n",
    "VCV2 = (1 / dta.shape[0]) * (Err_mat @ Err_mat.T)\n",
    "print(VCV2)\n",
    "W_hat2 = lin.inv(VCV2)\n",
    "print(W_hat2)"
   ]
  },
  {
   "cell_type": "code",
   "execution_count": 209,
   "metadata": {},
   "outputs": [
    {
     "name": "stdout",
     "output_type": "stream",
     "text": [
      "mu_GMM2= 11.336909999915031  sig_GMM2= 0.21302689616404144\n"
     ]
    }
   ],
   "source": [
    "mu_init = 10\n",
    "sig_init = .7\n",
    "params_init = np.array([mu_GMM1, sig_GMM1])\n",
    "# W_hat3 = np.array([[1. / VCV2[0, 0], 0.], [0., 1. / VCV2[1, 1]]])\n",
    "gmm_args = (dta, cut_lb, cut_ub,W_hat2)\n",
    "results = opt.minimize(criterion, params_init, args=(gmm_args),\n",
    "                       method='L-BFGS-B', bounds=((1e-10, None), (1e-10, None)))\n",
    "mu_GMM2, sig_GMM2 = results.x\n",
    "print('mu_GMM2=', mu_GMM2, ' sig_GMM2=', sig_GMM2)"
   ]
  },
  {
   "cell_type": "code",
   "execution_count": 211,
   "metadata": {},
   "outputs": [
    {
     "name": "stdout",
     "output_type": "stream",
     "text": [
      "[[ 0.92059973 -0.02061855]\n",
      " [ 1.42719517  8.31522424]]\n",
      "[[24.98769853 -1.200734  ]\n",
      " [-1.200734    0.57116219]]\n",
      "[[2.63415217e-04 1.88241964e-05]\n",
      " [1.88241964e-05 1.26613878e-04]]\n",
      "Std. err. mu_hat= 0.016230071367320926\n",
      "Std. err. sig_hat= 0.011252283236312397\n"
     ]
    }
   ],
   "source": [
    "#Standard Errors\n",
    "\n",
    "d_err2_2 = Jac_err2(dta, mu_GMM2, sig_GMM2, cut_lb, cut_ub,False)\n",
    "print(d_err2_2)\n",
    "print(W_hat2)\n",
    "SigHat2_2 = (1 / N) * lin.inv(d_err2.T @ W_hat2 @ d_err2)\n",
    "print(SigHat2_2)\n",
    "print('Std. err. mu_hat=', np.sqrt(SigHat2_2[0, 0]))\n",
    "print('Std. err. sig_hat=', np.sqrt(SigHat2_2[1, 1]))"
   ]
  },
  {
   "cell_type": "code",
   "execution_count": 213,
   "metadata": {},
   "outputs": [
    {
     "data": {
      "text/plain": [
       "array([[3.23946801e-12]])"
      ]
     },
     "execution_count": 213,
     "metadata": {},
     "output_type": "execute_result"
    }
   ],
   "source": [
    "#Critical Value\n",
    "err = err_vec(dta, mu_GMM2, sig_GMM2,cut_lb, cut_ub,simple=False)\n",
    "crit_val = err.T @ W_hat2 @ err\n",
    "crit_val"
   ]
  },
  {
   "cell_type": "code",
   "execution_count": 214,
   "metadata": {},
   "outputs": [
    {
     "data": {
      "text/plain": [
       "<matplotlib.legend.Legend at 0x1a22d1b4a8>"
      ]
     },
     "execution_count": 214,
     "metadata": {},
     "output_type": "execute_result"
    },
    {
     "data": {
      "image/png": "[encoded data removed]",
      "text/plain": [
       "<Figure size 432x288 with 1 Axes>"
      ]
     },
     "metadata": {
      "needs_background": "light"
     },
     "output_type": "display_data"
    }
   ],
   "source": [
    "#Graph\n",
    "x_pts = np.linspace(.01,150000,1000)\n",
    "#Histogram\n",
    "num_bins = 30\n",
    "count, bins, ignored = plt.hist(dta, num_bins, density=True,\n",
    "                                edgecolor='k')\n",
    "plt.title('Income Data', fontsize=20)\n",
    "plt.xlabel(r'Income')\n",
    "plt.ylabel(r'Percent of Incomes')\n",
    "plt.xlim([0, 150000])\n",
    "\n",
    "#Original Estimates\n",
    "plt.plot(x_pts,log_norm(x_pts,mu_init,sig_init,cut_lb, cut_ub),linewidth=4, color='g',\n",
    "         label='1: $\\mu_{Initial}$,$\\sigma_{Initial}$')\n",
    "\n",
    "#GMM Estimates\n",
    "plt.plot(x_pts,log_norm(x_pts,mu_GMM1,sig_GMM1,cut_lb, cut_ub),linewidth=4, color='r',\n",
    "         label='2: $\\mu_{GMM1}$,$\\sigma_{GMM1}$')\n",
    "\n",
    "#GMM_2 Estimates\n",
    "plt.plot(x_pts,log_norm(x_pts,mu_GMM2,sig_GMM2,cut_lb, cut_ub),linewidth=4, color='k',\n",
    "         label='3: $\\mu_{GMM2}$,$\\sigma_{GMM2}$')\n",
    "plt.legend(loc='upper left')"
   ]
  },
  {
   "cell_type": "markdown",
   "metadata": {},
   "source": [
    "### d) \n",
    "Now estimate the lognormal PDF to fit the data by GMM using different moments. Use percent of individuals who earn less than $75,000$, percent of individuals who earn between $75,000$ and $100,000$, and percent of individuals who earn more than $100,000$ as your three moments. Use the identity matrix as your estimator for the optimal weighting matrix. Plot your estimated lognormal PDF against the histogram from part (a). Report the value of your GMM criterion function at the estimated parameter values. Report and compare your three data moments against your three model moments at the estimated parameter values."
   ]
  },
  {
   "cell_type": "code",
   "execution_count": 237,
   "metadata": {},
   "outputs": [],
   "source": [
    "def data_moments2(xvals):\n",
    "    '''\n",
    "    --------------------------------------------------------------------\n",
    "    This function computes the four data moments for GMM\n",
    "    (binpct_1, binpct_2, binpct_3, binpct_4).\n",
    "    --------------------------------------------------------------------\n",
    "    INPUTS:\n",
    "    xvals = (N,) vector, test scores data\n",
    "\n",
    "    OTHER FUNCTIONS AND FILES CALLED BY THIS FUNCTION: None\n",
    "\n",
    "    OBJECTS CREATED WITHIN FUNCTION:\n",
    "    bpct_1_dat = scalar in [0, 1], percent of observations\n",
    "                 0 <= x < 220\n",
    "    bpct_2_dat = scalar in [0, 1], percent of observations\n",
    "                 220 <= x < 320\n",
    "    bpct_3_dat = scalar in [0, 1], percent of observations\n",
    "                 320 <= x < 430\n",
    "    bpct_4_dat = scalar in [0, 1], percent of observations\n",
    "                 430 <= x <= 450\n",
    "\n",
    "    FILES CREATED BY THIS FUNCTION: None\n",
    "\n",
    "    RETURNS: bpct_1, bpct_2, bpct_3, bpct_4\n",
    "    --------------------------------------------------------------------\n",
    "    '''\n",
    "    bpct_1_dat = xvals[xvals < 75000].shape[0] / xvals.shape[0]\n",
    "    bpct_2_dat = (xvals[(xvals >=75000) & (xvals < 100000)].shape[0] /\n",
    "                  xvals.shape[0])\n",
    "    bpct_3_dat = xvals[xvals >= 100000].shape[0] / xvals.shape[0]\n",
    "\n",
    "    return bpct_1_dat, bpct_2_dat, bpct_3_dat\n",
    "\n",
    "\n",
    "def model_moments2(mu, sigma,cut_lb, cut_ub):\n",
    "    '''\n",
    "    --------------------------------------------------------------------\n",
    "    This function computes the four model moments for GMM\n",
    "    (binpct_1, binpct_2, binpct_3, binpct_4).\n",
    "    --------------------------------------------------------------------\n",
    "    INPUTS:\n",
    "    mu     = scalar, mean of the normally distributed random variable\n",
    "    sigma  = scalar > 0, standard deviation of the normally distributed\n",
    "             random variable\n",
    "    cut_lb = scalar or string, ='None' if no cutoff is given, otherwise\n",
    "             is scalar lower bound value of distribution. Values below\n",
    "             this value have zero probability\n",
    "    cut_ub = scalar or string, ='None' if no cutoff is given, otherwise\n",
    "             is scalar upper bound value of distribution. Values above\n",
    "             this value have zero probability\n",
    "    \n",
    "    OTHER FUNCTIONS AND FILES CALLED BY THIS FUNCTION:\n",
    "        trunc_norm_pdf()\n",
    "        xfx()\n",
    "    \n",
    "    OBJECTS CREATED WITHIN FUNCTION:\n",
    "    bpct_1_mod = scalar in [0, 1], percent of model observations in\n",
    "                 bin 1\n",
    "    bp_1_err   = scalar > 0, estimated error in the computation of the\n",
    "                 integral for bpct_1_mod\n",
    "    bpct_2_mod = scalar in [0, 1], percent of model observations in\n",
    "                 bin 2\n",
    "    bp_2_err   = scalar > 0, estimated error in the computation of the\n",
    "                 integral for bpct_2_mod\n",
    "    bpct_3_mod = scalar in [0, 1], percent of model observations in\n",
    "                 bin 3\n",
    "    bp_3_err   = scalar > 0, estimated error in the computation of the\n",
    "                 integral for bpct_3_mod\n",
    "    bpct_4_mod = scalar in [0, 1], percent of model observations in\n",
    "                 bin 4\n",
    "    bp_4_err   = scalar > 0, estimated error in the computation of the\n",
    "                 integral for bpct_4_mod\n",
    "    \n",
    "    FILES CREATED BY THIS FUNCTION: None\n",
    "    \n",
    "    RETURNS: bpct_1_mod, bpct_2_mod, bpct_3_mod, bpct_4_mod\n",
    "    --------------------------------------------------------------------\n",
    "    '''\n",
    "    xfx = lambda x: log_norm(x, mu, sigma,cut_lb, cut_ub)\n",
    "    (bpct_1_mod, bp_1_err) = intgr.quad(xfx, 0, 75000)\n",
    "    (bpct_2_mod, bp_2_err) = intgr.quad(xfx, 75000, 100000)\n",
    "    (bpct_3_mod, bp_3_err) = intgr.quad(xfx, 100000, 150000)\n",
    "    \n",
    "    return bpct_1_mod, bpct_2_mod, bpct_3_mod\n",
    "\n",
    "\n",
    "def err_vec2(xvals, mu, sigma,cut_lb, cut_ub, simple):\n",
    "    '''\n",
    "    --------------------------------------------------------------------\n",
    "    This function computes the vector of moment errors (in percent\n",
    "    deviation from the data moment vector) for GMM.\n",
    "    --------------------------------------------------------------------\n",
    "    INPUTS:\n",
    "    xvals  = (N,) vector, test scores data\n",
    "    mu     = scalar, mean of the normally distributed random variable\n",
    "    sigma  = scalar > 0, standard deviation of the normally distributed\n",
    "             random variable\n",
    "    cut_lb = scalar or string, ='None' if no cutoff is given, otherwise\n",
    "             is scalar lower bound value of distribution. Values below\n",
    "             this value have zero probability\n",
    "    cut_ub = scalar or string, ='None' if no cutoff is given, otherwise\n",
    "             is scalar upper bound value of distribution. Values above\n",
    "             this value have zero probability\n",
    "    simple = boolean, =True if errors are simple difference, =False if\n",
    "             errors are percent deviation from data moments\n",
    "    \n",
    "    OTHER FUNCTIONS AND FILES CALLED BY THIS FUNCTION:\n",
    "        data_moments4()\n",
    "        model_moments4()\n",
    "    \n",
    "    OBJECTS CREATED WITHIN FUNCTION:\n",
    "    mean_data  = scalar, mean value of data\n",
    "    var_data   = scalar > 0, variance of data\n",
    "    moms_data  = (2, 1) matrix, column vector of two data moments\n",
    "    mean_model = scalar, mean value from model\n",
    "    var_model  = scalar > 0, variance from model\n",
    "    moms_model = (2, 1) matrix, column vector of two model moments\n",
    "    err_vec    = (2, 1) matrix, column vector of two moment error\n",
    "                 functions\n",
    "    \n",
    "    FILES CREATED BY THIS FUNCTION: None\n",
    "    \n",
    "    RETURNS: err_vec\n",
    "    --------------------------------------------------------------------\n",
    "    '''\n",
    "    bpct_1_dat, bpct_2_dat, bpct_3_dat = \\\n",
    "        data_moments2(xvals)\n",
    "    moms_data = np.array([[bpct_1_dat], [bpct_2_dat], [bpct_3_dat]])\n",
    "    bpct_1_mod, bpct_2_mod, bpct_3_mod = \\\n",
    "        model_moments2(mu, sigma,cut_lb, cut_ub)\n",
    "    moms_model = np.array([[bpct_1_mod], [bpct_2_mod], [bpct_3_mod]])\n",
    "    \n",
    "    if simple:\n",
    "        err_vec = moms_model - moms_data\n",
    "    else:\n",
    "        err_vec = (moms_model - moms_data) / moms_data\n",
    "    \n",
    "    return err_vec\n",
    "\n",
    "\n",
    "def criterion2(params, *args):\n",
    "    '''\n",
    "    --------------------------------------------------------------------\n",
    "    This function computes the GMM weighted sum of squared moment errors\n",
    "    criterion function value given parameter values and an estimate of\n",
    "    the weighting matrix.\n",
    "    --------------------------------------------------------------------\n",
    "    INPUTS:\n",
    "    params = (2,) vector, ([mu, sigma])\n",
    "    mu     = scalar, mean of the normally distributed random variable\n",
    "    sigma  = scalar > 0, standard deviation of the normally distributed\n",
    "             random variable\n",
    "    args   = length 3 tuple, (xvals, cutoff, W_hat)\n",
    "    xvals  = (N,) vector, values of the truncated normally distributed\n",
    "             random variable\n",
    "    cut_lb = scalar or string, ='None' if no cutoff is given, otherwise\n",
    "             is scalar lower bound value of distribution. Values below\n",
    "             this value have zero probability\n",
    "    cut_ub = scalar or string, ='None' if no cutoff is given, otherwise\n",
    "             is scalar upper bound value of distribution. Values above\n",
    "             this value have zero probability\n",
    "    W_hat  = (R, R) matrix, estimate of optimal weighting matrix\n",
    "    \n",
    "    OTHER FUNCTIONS AND FILES CALLED BY THIS FUNCTION:\n",
    "        err_vec4()\n",
    "    \n",
    "    OBJECTS CREATED WITHIN FUNCTION:\n",
    "    err        = (4, 1) matrix, column vector of four moment error\n",
    "                 functions\n",
    "    crit_val   = scalar > 0, GMM criterion function value\n",
    "    \n",
    "    FILES CREATED BY THIS FUNCTION: None\n",
    "    \n",
    "    RETURNS: crit_val\n",
    "    --------------------------------------------------------------------\n",
    "    '''\n",
    "    mu, sigma = params\n",
    "    xvals,cut_lb, cut_ub, W = args\n",
    "    err = err_vec2(xvals, mu, sigma,cut_lb, cut_ub,simple=False)\n",
    "    crit_val = err.T @ W @ err\n",
    "    \n",
    "    return crit_val"
   ]
  },
  {
   "cell_type": "code",
   "execution_count": 238,
   "metadata": {},
   "outputs": [
    {
     "name": "stdout",
     "output_type": "stream",
     "text": [
      "params= [11.33690942  0.21302748]\n",
      "(0.3, 0.5, 0.2)\n",
      "(0.30007458010542226, 0.49559706232849987, 0.20115785803911337)\n",
      "[[0.00011112]]\n"
     ]
    }
   ],
   "source": [
    "params = np.array([mu_GMM1, sig_GMM1])\n",
    "print('params=', params)\n",
    "print(data_moments2(dta))\n",
    "print(model_moments2(mu_GMM1, sig_GMM1,cut_lb, cut_ub))\n",
    "print(criterion2(params,dta,cut_lb, cut_ub,np.eye(3)))"
   ]
  },
  {
   "cell_type": "code",
   "execution_count": 242,
   "metadata": {},
   "outputs": [
    {
     "name": "stdout",
     "output_type": "stream",
     "text": [
      "mu_GMM3= 15.899217538799881  sig_GMM3= 5.976032992802418\n"
     ]
    }
   ],
   "source": [
    "mu_init3 = mu_GMM3\n",
    "sig_init3 = sig_GMM3\n",
    "params_init = np.array([mu_init3, sig_init3])\n",
    "W_hat1_3 = np.eye(3) \n",
    "gmm_args = (dta,cut_lb, cut_ub, W_hat1_3)\n",
    "results_3 = opt.minimize(criterion2, params_init, args=(gmm_args),\n",
    "                       method='L-BFGS-B', tol= 1e-14,bounds=((1e-10, None), (1e-10, None)))\n",
    "#tol = keep looking until next answer changes less than input number\n",
    "mu_GMM3, sig_GMM3 = results_3.x\n",
    "print('mu_GMM3=', mu_GMM3, ' sig_GMM3=', sig_GMM3)"
   ]
  },
  {
   "cell_type": "code",
   "execution_count": 240,
   "metadata": {},
   "outputs": [
    {
     "data": {
      "text/plain": [
       "<matplotlib.legend.Legend at 0x1a23193b70>"
      ]
     },
     "execution_count": 240,
     "metadata": {},
     "output_type": "execute_result"
    },
    {
     "data": {
      "image/png": "[encoded data removed]",
      "text/plain": [
       "<Figure size 432x288 with 1 Axes>"
      ]
     },
     "metadata": {
      "needs_background": "light"
     },
     "output_type": "display_data"
    }
   ],
   "source": [
    "#Graph\n",
    "x_pts = np.linspace(.00000001,150000,1000)\n",
    "#Histogram\n",
    "num_bins = 30\n",
    "count, bins, ignored = plt.hist(dta, num_bins, density=True,\n",
    "                                edgecolor='k')\n",
    "plt.title('Income Data', fontsize=20)\n",
    "plt.xlabel(r'Income')\n",
    "plt.ylabel(r'Percent of Incomes')\n",
    "plt.xlim([0, 150000])\n",
    "plt.ylim([0,.000030])\n",
    "\n",
    "#GMM_3 Estimates\n",
    "plt.plot(x_pts,log_norm(x_pts,mu_GMM3,sig_GMM3,cut_lb, cut_ub),linewidth=4, color='k',\n",
    "         label='2: $\\mu_{GMM3}$,$\\sigma_{GMM3}$')\n",
    "\n",
    "plt.legend(loc='upper left')"
   ]
  },
  {
   "cell_type": "code",
   "execution_count": 243,
   "metadata": {},
   "outputs": [
    {
     "name": "stdout",
     "output_type": "stream",
     "text": [
      "params= [15.89921754  5.97603299]\n",
      "(0.3, 0.5, 0.2)\n",
      "(0.21792224062356344, 0.014464656854573611, 0.021266030877876638)\n",
      "[[1.81647694]]\n"
     ]
    }
   ],
   "source": [
    "params = np.array([mu_GMM3, sig_GMM3])\n",
    "print('params=', params)\n",
    "print(data_moments2(dta))\n",
    "print(model_moments2(mu_GMM3, sig_GMM3,cut_lb, cut_ub))\n",
    "print(criterion2(params, dta,cut_lb, cut_ub,W_hat1_3))"
   ]
  },
  {
   "cell_type": "code",
   "execution_count": null,
   "metadata": {},
   "outputs": [],
   "source": []
  },
  {
   "cell_type": "markdown",
   "metadata": {},
   "source": [
    "### e) \n",
    "\n",
    "Perform the two-step GMM estimator by using your estimates from part (d) with three moments to generate an estimator for the variance covariance matrix $\\hat{\\Omega}_{2step}$, which you then use to get the two-step estimator for the optimal weighting matrix $\\hat{W}_{2step}$. Report your estimates as well as the criterion function value at these estimates. Plot your estimated log- normal PDF against the histogram from part (a) and the estimated PDF from part (d). Report and compare your three data moments against your three model moments at the estimated parameter values."
   ]
  },
  {
   "cell_type": "code",
   "execution_count": 256,
   "metadata": {},
   "outputs": [],
   "source": [
    "def weight_3(dta, mu, sigma, cut_lb, cut_ub, simple=False):\n",
    "    '''\n",
    "    --------------------------------------------------------------------\n",
    "    This function computes the R x N matrix of errors from each\n",
    "    observation for each moment. In this function, we have hard coded\n",
    "    R = 4.\n",
    "    --------------------------------------------------------------------\n",
    "    INPUTS:\n",
    "    xvals  = (N,) vector, test scores data\n",
    "    mu     = scalar, mean of the normally distributed random variable\n",
    "    sigma  = scalar > 0, standard deviation of the normally distributed\n",
    "             random variable\n",
    "    cut_lb = scalar or string, ='None' if no cutoff is given, otherwise\n",
    "             is scalar lower bound value of distribution. Values below\n",
    "             this value have zero probability\n",
    "    cut_ub = scalar or string, ='None' if no cutoff is given, otherwise\n",
    "             is scalar upper bound value of distribution. Values above\n",
    "             this value have zero probability\n",
    "    simple = boolean, =True if errors are simple difference, =False if\n",
    "             errors are percent deviation from data moments\n",
    "    \n",
    "    OTHER FUNCTIONS AND FILES CALLED BY THIS FUNCTION:\n",
    "        model_moments()\n",
    "    \n",
    "    OBJECTS CREATED WITHIN FUNCTION:\n",
    "    R          = 2, hard coded number of moments\n",
    "    N          = integer >= R, number of data observations\n",
    "    Err_mat    = (R, N) matrix, error by moment and observation data\n",
    "    mean_model = scalar, mean value from model\n",
    "    var_model  = scalar > 0, variance from model\n",
    "    \n",
    "    FILES CREATED BY THIS FUNCTION: None\n",
    "    \n",
    "    RETURNS: Err_mat\n",
    "    --------------------------------------------------------------------\n",
    "    '''\n",
    "    R = 4\n",
    "    N = len(dta)\n",
    "    Err_mat = np.zeros((R, N))\n",
    "    pct_1_mod, pct_2_mod, pct_3_mod = \\\n",
    "        model_moments2(mu, sigma, cut_lb, cut_ub)\n",
    "    if simple:\n",
    "        pts_in_grp1 = dta < 75000\n",
    "        Err_mat[0, :] = pts_in_grp1 - pct_1_mod\n",
    "        pts_in_grp2 = (dta >= 75000) & (dta < 100000)\n",
    "        Err_mat[1, :] = pts_in_grp2 - pct_2_mod\n",
    "        pts_in_grp3 = dta >= 100000\n",
    "        Err_mat[2, :] = pts_in_grp3 - pct_3_mod\n",
    "\n",
    "    else:\n",
    "        pts_in_grp1 = dta < 75000\n",
    "        Err_mat[0, :] = (pts_in_grp1 - pct_1_mod) / pct_1_mod\n",
    "        pts_in_grp2 = (dta >= 75000) & (dta < 100000)\n",
    "        Err_mat[1, :] = (pts_in_grp2 - pct_2_mod) / pct_2_mod\n",
    "        pts_in_grp3 = dta >= 100000\n",
    "        Err_mat[2, :] = (pts_in_grp3 - pct_3_mod) / pct_3_mod\n",
    "    \n",
    "    return Err_mat"
   ]
  },
  {
   "cell_type": "code",
   "execution_count": 257,
   "metadata": {},
   "outputs": [
    {
     "name": "stdout",
     "output_type": "stream",
     "text": [
      "[[0.04451678 0.09358605]\n",
      " [0.09358605 1.94755883]]\n",
      "[[24.98769853 -1.200734  ]\n",
      " [-1.200734    0.57116219]]\n"
     ]
    }
   ],
   "source": [
    "Err_mat2 = weight_3(dta, mu_GMM3, sig_GMM3, cut_lb, cut_ub,False)\n",
    "VCV2 = (1 / dta.shape[0]) * (Err_mat @ Err_mat.T)\n",
    "print(VCV2)\n",
    "W_hat3 = lin.inv(VCV2)\n",
    "print(W_hat3)"
   ]
  },
  {
   "cell_type": "code",
   "execution_count": 258,
   "metadata": {},
   "outputs": [
    {
     "name": "stdout",
     "output_type": "stream",
     "text": [
      "mu_GMM4= 11.33691033996748  sig_GMM4= 0.21302707175269953\n"
     ]
    }
   ],
   "source": [
    "params_init = np.array([mu_GMM3, sig_GMM3])\n",
    "gmm_args = (dta, cut_lb, cut_ub,W_hat3)\n",
    "results = opt.minimize(criterion, params_init, args=(gmm_args),\n",
    "                       method='L-BFGS-B', bounds=((1e-10, None), (1e-10, None)))\n",
    "mu_GMM4, sig_GMM4 = results.x\n",
    "print('mu_GMM4=', mu_GMM4, ' sig_GMM4=', sig_GMM4)"
   ]
  },
  {
   "cell_type": "code",
   "execution_count": null,
   "metadata": {},
   "outputs": [],
   "source": []
  }
 ],
 "metadata": {
  "kernelspec": {
   "display_name": "Python 3",
   "language": "python",
   "name": "python3"
  },
  "language_info": {
   "codemirror_mode": {
    "name": "ipython",
    "version": 3
   },
   "file_extension": ".py",
   "mimetype": "text/x-python",
   "name": "python",
   "nbconvert_exporter": "python",
   "pygments_lexer": "ipython3",
   "version": "3.7.0"
  }
 },
 "nbformat": 4,
 "nbformat_minor": 2
}
