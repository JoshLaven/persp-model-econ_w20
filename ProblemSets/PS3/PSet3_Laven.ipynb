{
 "cells": [
  {
   "cell_type": "markdown",
   "metadata": {},
   "source": [
    "# Problem Set 3"
   ]
  },
  {
   "cell_type": "markdown",
   "metadata": {},
   "source": [
    "### Exercise 1. \n",
    "\n",
    "If the individual lives for one period T = 1, what is the condition that\n",
    "characterizes the optimal amount of cake to eat in period 1? Write the problem in\n",
    "the equivalent way of showing what the condition is for the optimal amount of cake\n",
    "to save for the next period $W_{T+1}$ or $W_{2}$."
   ]
  },
  {
   "cell_type": "code",
   "execution_count": null,
   "metadata": {},
   "outputs": [],
   "source": [
    "V = Lifetime utility\n",
    "u= Period utility function"
   ]
  },
  {
   "cell_type": "markdown",
   "metadata": {},
   "source": [
    "max{$W_{t+1}$}   $\\sum_{t=1}^{t}\\beta^{t-1}*u(W_{t} - W_{t+1})$\n",
    "\n",
    "For $T=1$:\n",
    "\n",
    "max{$W_{2}$}   $\\sum_{t=1}^{1}\\beta^{0}*u(W_{t} - W_{t+1})$\n",
    "\n",
    "Since there is only one period: $W_{t+1} = 0$\n",
    "\n",
    "So, lifetime utility $V$$= u(W_{t}) = u(W_{1})$"
   ]
  },
  {
   "cell_type": "code",
   "execution_count": null,
   "metadata": {},
   "outputs": [],
   "source": []
  },
  {
   "cell_type": "markdown",
   "metadata": {},
   "source": [
    "### Exercise 2.\n",
    "\n",
    "If the individual lives for two periods T = 2, \n",
    "\n",
    "**What is the condition that characterizes the optimal amount of cake to leave for the next period $W_{3}$ in period\n",
    "2? What is the condition that characterizes the optimal amount of cake leave for the\n",
    "next period $W_{2}$ in period 1?**\n",
    "\n",
    "For $T=2$: <br>\n",
    "$\\max_{c_t \\in [0,W_t]}\\sum_{t=1}^{2}\\beta^{t-1}u(c_{t})~~~\\text{s.t. } W_{t+1} = W_t - c_t$<p>\n",
    "    which equals<p>\n",
    "$\\max_{W_2,W_3}$: $u(W_{1} - W_{2}) + \\beta*u(W_{2} - W_{3})$<p>\n",
    "        If the individual only lives for two periods, then the optimization condition for $W_3$ is <p> $W_{3} = min(W_{3})=0$:<p>\n",
    "            The optimization condition for $W_2$ in the first period is: <p>\n",
    "$\\frac{dV}{dW_{2}} = 0 = (\\frac{du(Ct_{1})}{dCt_{1}}) *-1) + (\\beta*\\frac{du(Ct_{2})}{dCt_{2}})$<p>\n",
    "$\\frac{du(Ct_{1})}{dCt_{1}} = \\beta*\\frac{du(Ct_{2})}{dCt_{2}}$ <p>\n",
    "If we log our period utility function (u), so u(x) = ln(x): <p>\n",
    "   $\\frac{1}{Ct_{1}} = \\beta*\\frac{1}{Ct_{2}}$ <p>\n",
    "    $\\frac{1}{W_{1} - W_{2}} = \\beta * \\frac{1}{W_{2} - W_{3}}$ <p>\n",
    "    since $W_{3} = 0$: <p>\n",
    "       $\\frac{1}{W_{1} - W_{2}} = \\beta\\frac{1}{W_{2}}$ <p>\n",
    "    $W_{2} = \\frac{\\beta}{1-\\beta} *W_{1}$\n",
    "   \n",
    "\n",
    "\n"
   ]
  },
  {
   "cell_type": "markdown",
   "metadata": {},
   "source": [
    "### Exercise 3. \n",
    "\n",
    "**If the individual lives for three periods T = 3 what are the conditions\n",
    "that characterize the optimal amount of cake to leave for the next period in each\n",
    "period {${W_{2}, W_{3}, W_{4}}$}?** <p>\n",
    "    \n",
    "$\\max_{c_t \\in [0,W_t]} \\sum_{t = 1}^{T = 3} \\beta^{t-1} u(c_t) ~~~ \\text{s.t. } W_{t+1} = W_t - c_t$ <p>\n",
    "    $C_1= W_1-W_2$ <p>\n",
    "    $C_2= W_2-W_3$ <p>\n",
    "    $C_3= W_3-W_4$ <p>\n",
    "    \n",
    "$\\max_{W_2,W_3,W_4}~~  u(W_{1} - W_{2}) + \\beta u(W_{2}-W_{3}) + \\beta^{2}u(W_{3}-W_{4})$ <p>\n",
    "    \n",
    "The optimization condition for $W_4$ in period 3 is <p>\n",
    "    $W_4 = min(W_4) = 0$ for all $W_1,~W_2,~W_3$ <p>\n",
    "    \n",
    "The optimization condition for $W_3$ in period 2 is <p>\n",
    "    $\\beta\\frac{du(Ct_{2})}{dCt_{2}} * \\frac{d(W_2 - W_3)}{dW_3}+ \\beta^{2}\\frac{du(Ct_{3})}{dCt_{3}} = 0$ <p>\n",
    " $\\beta\\frac{du(Ct_{2})}{dCt_{2}} * -1 + \\beta^{2}\\frac{du(Ct_{3})}{dCt_{3}} = 0$ <p>\n",
    "    $\\frac{du(Ct_{2})}{dCt_{2}} = \\beta\\frac{du(Ct_{3})}{dCt_{3}} = 0$ <p>\n",
    "\n",
    "The optimization condition for $W_2$ in period 1 is <p>\n",
    "       $\\frac{du(Ct_{1})}{dCt_{1}} * \\frac{d(W_1 - W_2)}{dW_2}+ \\beta\\frac{du(Ct_{2})}{dCt_{2}} = 0$ <p>\n",
    " $\\frac{du(Ct_{1})}{dCt_{1}} * -1 + \\beta\\frac{du(Ct_{2})}{dCt_{2}} = 0$ <p>\n",
    "    $\\frac{du(Ct_{1})}{dCt_{1}} = \\beta\\frac{du(Ct_{2})}{dCt_{2}}$ <p> \n",
    "   \n",
    "\n",
    "**Now assume that the initial cake size is $W_{1}$ = 1, the discount\n",
    "factor is β = 0.9, and the period utility function is ln(ct). Show how ${ct}^{3}_{t=1}$ and ${Wt}^{4}_{t=1}$ evolve over the three periods.**<p>\n",
    "$W_4:~~W_4 = 0$<p>\n",
    "\n",
    "$W_3:~~ \\frac{1}{C_2} = \\beta\\frac{1}{C_3}$<p>\n",
    "    $~~~~\\frac{1}{W_2-W_3} = \\beta\\frac{1}{W_3-W_4}$ <p>\n",
    "    $~~~~\\frac{1}{W_2-W_3} = \\beta\\frac{1}{W_3}$ <p>\n",
    "    $~~~~W_3 = \\frac{\\beta}{\\beta + 1}W_2$ <p>\n",
    "$W_2: ~~ \\frac{1}{C_1} = \\beta\\frac{1}{C_2}$<p>\n",
    "    $~~~~\\frac{1}{W_1-W_2} = \\beta\\frac{1}{W_2-W_3}$ <p>\n",
    "    $~~~~W_2-W_3 = \\beta W_1 - \\beta W_2$<p>\n",
    "    $~~~~W_2 - (\\frac{\\beta}{\\beta+1}W_2)=\\beta W_1 - \\beta W_2$<p>\n",
    "    $~~~~W_2= \\frac{\\beta(\\beta+1)}{\\beta^{2}+\\beta+1}W_1$ <p>\n",
    "\n"
   ]
  },
  {
   "cell_type": "markdown",
   "metadata": {},
   "source": [
    "For $W_1=1$ and $\\beta=0.9$:<p>\n",
    "$~~~~W_2 = 0.6310$<p>\n",
    "    $~~~~W_3 = 0.2989$<p>\n",
    "    $~~~~W_4 = 0.0$<p>\n",
    "$~~~~C_1 = 0.369$<p>\n",
    "    $~~~~C_2 = 0.3321$<p>\n",
    "    $~~~~C_3 = 0.2989$<p>\n",
    "    \n",
    "    "
   ]
  },
  {
   "cell_type": "markdown",
   "metadata": {},
   "source": [
    "### Exercise 4\n",
    "\n",
    "Using the envelope theorem that says $W_{T +1}$ will be chosen optimally in\n",
    "the next period, show the condition that characterizes the optimal choice (the policy\n",
    "function) in period $T − 1$ for $W_T = \\psi_{T −1}(W_{T -1}$). Show the value function $V_{T −1}$ in\n",
    "terms of $\\psi_{T −1}(W_{T -1}$.\n",
    "\n",
    "The optimization for $T − 1$ with an optimally chosen $W_{T+1}$:<p>\n",
    "    $~~~~ V_{T-1}(W_{T-1}) = \\max_{W_T} ~u(W_{T-1}-W_T) + \\beta V_T(W_T)$<p>\n",
    "    The condition that characterizes optimal choice in the $T-1$ period:<p>\n",
    "        $~~~~\\frac{du(W_{T-1} - W_T)}{dC_T}*\\frac{d(W_{T-1} - W_T)}{dW_T}+\\beta\\frac{du(W_T)}{dC_T} = 0$<p>\n",
    "    $~~~~\\frac{du(W_{T-1} - W_T)}{dC_T} = \\beta\\frac{du(W_T)}{dC_T}$<p>\n",
    "    The value function $V_{T −1}$ in terms of $\\psi_{T −1}(W_{T -1}$ is then:<p>\n",
    "        $~~~~V_{T −1}(W_{T-1}) = u(W_{T-1}-\\psi_{T −1}(W_{T -1})) + \\beta u(\\psi_{T −1}(W_{T -1})$"
   ]
  },
  {
   "cell_type": "markdown",
   "metadata": {},
   "source": [
    "### Exercise 5\n",
    "\n",
    "Let u(c) = ln(c). Show that $V_{T −1}(\\bar W)$ does not equal $V_T(\\bar W)$ and that $\\psi_{T −1}(\\bar W)$ does not equal $\\psi_{T}(\\bar W)$ for a cake size of $\\bar W$ when $T < \\infty$ represents the last period of an individual’s life"
   ]
  },
  {
   "cell_type": "markdown",
   "metadata": {},
   "source": [
    "When u(c) = ln(c), the value of eating the cake at $T$ is equivalent to the utility at $T$:<p>\n",
    "    $~~~~V(\\bar W)= u(\\bar W) = ln(\\bar W)$\n",
    "\n",
    "In a finite horizon, there should be no cake at the end of period $T$, so:<p>\n",
    "    $~~~~\\bar W_{T+1} = \\psi_T(W_T) = 0$<p>\n",
    "    $~~~~\\psi_T(W_T) = 0$<p>\n",
    "    The optimization condition for period $T-1$ when u(c)= ln(c) is:<p>\n",
    "        $\\frac{1}{W_{T-1}-W_T} = \\beta\\frac{1}{W_T}$<p>\n",
    "        $W_T = \\frac{\\beta}{1+\\beta}W$<p>\n",
    "        $W_T= \\psi_{T-1}(W_{T-1})$<p>\n",
    "        $\\psi_{T-1}(\\bar W) = \\frac{\\beta}{1+\\beta}\\bar W$\n",
    "\n",
    "The value function in $T-1$ is then:<p>\n",
    "    $~~~~V_{T-1}(\\bar W) = u(\\bar W - \\psi_{T-1}(\\bar W)) + \\beta(\\psi_{T-1}(\\bar W))$<p>\n",
    "    $~~~=V_{T-1}(\\bar W) = u(\\bar W - \\frac{\\beta}{1+\\beta}\\bar W) + \\beta u (\\frac{\\beta}{1+\\beta}\\bar W)$<p>\n",
    "    $~~~=ln(0+\\frac{\\beta}{1+\\beta}\\bar W)+\\beta ln(\\frac{\\beta}{1+\\beta}\\bar W)$<p>\n",
    "    $~~~=ln(\\frac{\\beta}{1+\\beta}\\bar W)+\\beta ln(\\frac{\\beta}{1+\\beta}\\bar W)$\n",
    "\n",
    "    \n",
    "   \n",
    "\n"
   ]
  },
  {
   "cell_type": "markdown",
   "metadata": {},
   "source": [
    "### Exercise 6\n",
    "\n",
    "Using u(c) = ln(c), write the finite horizon Bellman equation for the\n",
    "value function at time $T − 2$. Characterize the solution for the period $T − 2$ policy\n",
    "function for how much cake to save for the next period $W_{T −1} = \\psi_{T −2}(W_{T −2})$ using\n",
    "the envelope theorem (the principle of optimality) and write its analytical solution.\n",
    "Also, write the analytical solution for $V_{T −2}$."
   ]
  },
  {
   "cell_type": "code",
   "execution_count": null,
   "metadata": {},
   "outputs": [],
   "source": []
  },
  {
   "cell_type": "code",
   "execution_count": null,
   "metadata": {},
   "outputs": [],
   "source": []
  },
  {
   "cell_type": "code",
   "execution_count": null,
   "metadata": {},
   "outputs": [],
   "source": []
  },
  {
   "cell_type": "code",
   "execution_count": null,
   "metadata": {},
   "outputs": [],
   "source": []
  },
  {
   "cell_type": "code",
   "execution_count": null,
   "metadata": {},
   "outputs": [],
   "source": []
  }
 ],
 "metadata": {
  "kernelspec": {
   "display_name": "Python 3",
   "language": "python",
   "name": "python3"
  },
  "language_info": {
   "codemirror_mode": {
    "name": "ipython",
    "version": 3
   },
   "file_extension": ".py",
   "mimetype": "text/x-python",
   "name": "python",
   "nbconvert_exporter": "python",
   "pygments_lexer": "ipython3",
   "version": "3.7.0"
  }
 },
 "nbformat": 4,
 "nbformat_minor": 2
}
