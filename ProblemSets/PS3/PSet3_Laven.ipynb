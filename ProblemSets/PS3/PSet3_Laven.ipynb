{
 "cells": [
  {
   "cell_type": "markdown",
   "metadata": {},
   "source": [
    "# Problem Set 3"
   ]
  },
  {
   "cell_type": "markdown",
   "metadata": {},
   "source": [
    "### Exercise 1. \n",
    "\n",
    "If the individual lives for one period T = 1, what is the condition that\n",
    "characterizes the optimal amount of cake to eat in period 1? Write the problem in\n",
    "the equivalent way of showing what the condition is for the optimal amount of cake\n",
    "to save for the next period $W_{T+1}$ or $W_{2}$."
   ]
  },
  {
   "cell_type": "markdown",
   "metadata": {},
   "source": [
    "V = Lifetime utility<p>\n",
    "u= Period utility function"
   ]
  },
  {
   "cell_type": "markdown",
   "metadata": {},
   "source": [
    "max{$W_{t+1}$}   $\\sum_{t=1}^{t}\\beta^{t-1}*u(W_{t} - W_{t+1})$\n",
    "\n",
    "For $T=1$:\n",
    "\n",
    "max{$W_{2}$}   $\\sum_{t=1}^{1}\\beta^{0}*u(W_{t} - W_{t+1})$\n",
    "\n",
    "Since there is only one period: $W_{t+1} = 0$\n",
    "\n",
    "So, lifetime utility $V$$= u(W_{t}) = u(W_{1})$"
   ]
  },
  {
   "cell_type": "code",
   "execution_count": null,
   "metadata": {},
   "outputs": [],
   "source": []
  },
  {
   "cell_type": "markdown",
   "metadata": {},
   "source": [
    "### Exercise 2.\n",
    "\n",
    "If the individual lives for two periods T = 2, \n",
    "\n",
    "**What is the condition that characterizes the optimal amount of cake to leave for the next period $W_{3}$ in period\n",
    "2? What is the condition that characterizes the optimal amount of cake leave for the\n",
    "next period $W_{2}$ in period 1?**\n",
    "\n",
    "For $T=2$: <br>\n",
    "$\\max_{c_t \\in [0,W_t]}\\sum_{t=1}^{2}\\beta^{t-1}u(c_{t})~~~\\text{s.t. } W_{t+1} = W_t - c_t$<p>\n",
    "    which equals<p>\n",
    "$\\max_{W_2,W_3}$: $u(W_{1} - W_{2}) + \\beta*u(W_{2} - W_{3})$<p>\n",
    "        If the individual only lives for two periods, then the optimization condition for $W_3$ is <p> $W_{3} = min(W_{3})=0$:<p>\n",
    "            The optimization condition for $W_2$ in the first period is: <p>\n",
    "$\\frac{dV}{dW_{2}} = 0 = (\\frac{du(Ct_{1})}{dCt_{1}}) *-1) + (\\beta*\\frac{du(Ct_{2})}{dCt_{2}})$<p>\n",
    "$\\frac{du(Ct_{1})}{dCt_{1}} = \\beta*\\frac{du(Ct_{2})}{dCt_{2}}$ <p>\n",
    "If we log our period utility function (u), so u(x) = ln(x): <p>\n",
    "   $\\frac{1}{Ct_{1}} = \\beta*\\frac{1}{Ct_{2}}$ <p>\n",
    "    $\\frac{1}{W_{1} - W_{2}} = \\beta * \\frac{1}{W_{2} - W_{3}}$ <p>\n",
    "    since $W_{3} = 0$: <p>\n",
    "       $\\frac{1}{W_{1} - W_{2}} = \\beta\\frac{1}{W_{2}}$ <p>\n",
    "    $W_{2} = \\frac{\\beta}{1-\\beta} *W_{1}$\n",
    "   \n",
    "\n",
    "\n"
   ]
  },
  {
   "cell_type": "markdown",
   "metadata": {},
   "source": [
    "### Exercise 3. \n",
    "\n",
    "**If the individual lives for three periods T = 3 what are the conditions\n",
    "that characterize the optimal amount of cake to leave for the next period in each\n",
    "period {${W_{2}, W_{3}, W_{4}}$}?** <p>\n",
    "    \n",
    "$\\max_{c_t \\in [0,W_t]} \\sum_{t = 1}^{T = 3} \\beta^{t-1} u(c_t) ~~~ \\text{s.t. } W_{t+1} = W_t - c_t$ <p>\n",
    "    $C_1= W_1-W_2$ <p>\n",
    "    $C_2= W_2-W_3$ <p>\n",
    "    $C_3= W_3-W_4$ <p>\n",
    "    \n",
    "$\\max_{W_2,W_3,W_4}~~  u(W_{1} - W_{2}) + \\beta u(W_{2}-W_{3}) + \\beta^{2}u(W_{3}-W_{4})$ <p>\n",
    "    \n",
    "The optimization condition for $W_4$ in period 3 is <p>\n",
    "    $W_4 = min(W_4) = 0$ for all $W_1,~W_2,~W_3$ <p>\n",
    "    \n",
    "The optimization condition for $W_3$ in period 2 is <p>\n",
    "    $\\beta\\frac{du(Ct_{2})}{dCt_{2}} * \\frac{d(W_2 - W_3)}{dW_3}+ \\beta^{2}\\frac{du(Ct_{3})}{dCt_{3}} = 0$ <p>\n",
    " $\\beta\\frac{du(Ct_{2})}{dCt_{2}} * -1 + \\beta^{2}\\frac{du(Ct_{3})}{dCt_{3}} = 0$ <p>\n",
    "    $\\frac{du(Ct_{2})}{dCt_{2}} = \\beta\\frac{du(Ct_{3})}{dCt_{3}} = 0$ <p>\n",
    "\n",
    "The optimization condition for $W_2$ in period 1 is <p>\n",
    "       $\\frac{du(Ct_{1})}{dCt_{1}} * \\frac{d(W_1 - W_2)}{dW_2}+ \\beta\\frac{du(Ct_{2})}{dCt_{2}} = 0$ <p>\n",
    " $\\frac{du(Ct_{1})}{dCt_{1}} * -1 + \\beta\\frac{du(Ct_{2})}{dCt_{2}} = 0$ <p>\n",
    "    $\\frac{du(Ct_{1})}{dCt_{1}} = \\beta\\frac{du(Ct_{2})}{dCt_{2}}$ <p> \n",
    "   \n",
    "\n",
    "**Now assume that the initial cake size is $W_{1}$ = 1, the discount\n",
    "factor is β = 0.9, and the period utility function is ln(ct). Show how ${ct}^{3}_{t=1}$ and ${Wt}^{4}_{t=1}$ evolve over the three periods.**<p>\n",
    "$W_4:~~W_4 = 0$<p>\n",
    "\n",
    "$W_3:\\: \\frac{1}{C_2} = \\beta\\frac{1}{C_3}$<p>\n",
    "    $\\;\\;\\frac{1}{W_2-W_3} = \\beta\\frac{1}{W_3-W_4}$ <p>\n",
    "    $\\;\\;\\frac{1}{W_2-W_3} = \\beta\\frac{1}{W_3}$ <p>\n",
    "    $\\;\\;W_3 = \\frac{\\beta}{\\beta + 1}W_2$ <p>\n",
    "$W_2:\\:\\frac{1}{C_1} = \\beta\\frac{1}{C_2}$<p>\n",
    "    $\\;\\frac{1}{W_1-W_2} = \\beta\\frac{1}{W_2-W_3}$ <p>\n",
    "    $\\;\\;W_2-W_3 = \\beta W_1 - \\beta W_2$<p>\n",
    "    $\\;\\;W_2 - (\\frac{\\beta}{\\beta+1}W_2)=\\beta W_1 - \\beta W_2$<p>\n",
    "    $\\;\\;W_2= \\frac{\\beta(\\beta+1)}{\\beta^{2}+\\beta+1}W_1$ <p>\n",
    "\n"
   ]
  },
  {
   "cell_type": "markdown",
   "metadata": {},
   "source": [
    "For $W_1=1$ and $\\beta=0.9$:<p>\n",
    "$\\;W_2 = 0.6310$<p>\n",
    "    $\\;W_3 = 0.2989$<p>\n",
    "    $\\;W_4 = 0.0$<p>\n",
    "$\\;C_1 = 0.369$<p>\n",
    "    $\\;C_2 = 0.3321$<p>\n",
    "    $\\;C_3 = 0.2989$<p>\n",
    "    \n",
    "    "
   ]
  },
  {
   "cell_type": "markdown",
   "metadata": {},
   "source": [
    "### Exercise 4\n",
    "\n",
    "Using the envelope theorem that says $W_{T +1}$ will be chosen optimally in\n",
    "the next period, show the condition that characterizes the optimal choice (the policy\n",
    "function) in period $T − 1$ for $W_T = \\psi_{T −1}(W_{T -1}$). Show the value function $V_{T −1}$ in\n",
    "terms of $\\psi_{T −1}(W_{T -1}$.\n",
    "\n",
    "The optimization for $T − 1$ with an optimally chosen $W_{T+1}$:<p>\n",
    "    $\\;\\;V_{T-1}(W_{T-1}) = \\max_{W_T} ~u(W_{T-1}-W_T) + \\beta V_T(W_T)$<p>\n",
    "    The condition that characterizes optimal choice in the $T-1$ period:<p>\n",
    "        $\\;\\;\\frac{du(W_{T-1} - W_T)}{dC_T}*\\frac{d(W_{T-1} - W_T)}{dW_T}+\\beta\\frac{du(W_T)}{dC_T} = 0$<p>\n",
    "    $\\;\\;\\frac{du(W_{T-1} - W_T)}{dC_T} = \\beta\\frac{du(W_T)}{dC_T}$<p>\n",
    "    The value function $V_{T −1}$ in terms of $\\psi_{T −1}(W_{T -1})$ is then:<p>\n",
    "        $\\;\\;V_{T −1}(W_{T-1}) = u(W_{T-1}-\\psi_{T −1}(W_{T -1})) + \\beta u(\\psi_{T −1}(W_{T -1})$"
   ]
  },
  {
   "cell_type": "markdown",
   "metadata": {},
   "source": [
    "### Exercise 5\n",
    "\n",
    "Let u(c) = ln(c). Show that $V_{T −1}(\\bar W)$ does not equal $V_T(\\bar W)$ and that $\\psi_{T −1}(\\bar W)$ does not equal $\\psi_{T}(\\bar W)$ for a cake size of $\\bar W$ when $T < \\infty$ represents the last period of an individual’s life"
   ]
  },
  {
   "cell_type": "markdown",
   "metadata": {},
   "source": [
    "When u(c) = ln(c), the value of eating the cake at $T$ is equivalent to the utility at $T$:<p>\n",
    "    $~~~~V(\\bar W)= u(\\bar W) = ln(\\bar W)$\n",
    "\n",
    "In a finite horizon, there should be no cake at the end of period $T$, so:<p>\n",
    "    $~~~~\\bar W_{T+1} = \\psi_T(W_T) = 0$<p>\n",
    "    $~~~~\\psi_T(W_T) = 0$<p>\n",
    "    The optimization condition for period $T-1$ when u(c)= ln(c) is:<p>\n",
    "        $\\frac{1}{W_{T-1}-W_T} = \\beta\\frac{1}{W_T}$<p>\n",
    "        $W_T = \\frac{\\beta}{1+\\beta}W$<p>\n",
    "        $W_T= \\psi_{T-1}(W_{T-1})$<p>\n",
    "        $\\psi_{T-1}(\\bar W) = \\frac{\\beta}{1+\\beta}\\bar W$\n",
    "\n",
    "The value function in $T-1$ is then:<p>\n",
    "    $~~~~V_{T-1}(\\bar W) = u(\\bar W - \\psi_{T-1}(\\bar W)) + \\beta(\\psi_{T-1}(\\bar W))$<p>\n",
    "    $~~~=V_{T-1}(\\bar W) = u(\\bar W - \\frac{\\beta}{1+\\beta}\\bar W) + \\beta u (\\frac{\\beta}{1+\\beta}\\bar W)$<p>\n",
    "    $~~~=ln(0+\\frac{\\beta}{1+\\beta}\\bar W)+\\beta ln(\\frac{\\beta}{1+\\beta}\\bar W)$<p>\n",
    "    $~~~=ln(\\frac{\\beta}{1+\\beta}\\bar W)+\\beta ln(\\frac{\\beta}{1+\\beta}\\bar W)$\n",
    "\n",
    "    \n",
    "   \n",
    "\n"
   ]
  },
  {
   "cell_type": "markdown",
   "metadata": {},
   "source": [
    "### Exercise 6\n",
    "\n",
    "Using u(c) = ln(c), write the finite horizon Bellman equation for the\n",
    "value function at time $T − 2$. Characterize the solution for the period $T − 2$ policy\n",
    "function for how much cake to save for the next period $W_{T −1} = \\psi_{T −2}(W_{T −2})$ using\n",
    "the envelope theorem (the principle of optimality) and write its analytical solution.\n",
    "Also, write the analytical solution for $V_{T −2}$.\n",
    "\n",
    "For $T-2$, the optimization is:<p>\n",
    "    $~~~~V_{T-2}(W_{T-2}) = \\max_{W_{T-1}}~~  u(W_{T-2} - W_{T-1}) + \\beta u(W_{T-1}-W_{T}) + \\beta^{2}u(W_{T}-W_{T+1})$<p>\n",
    "    $~~$Plug in $W_T= \\psi_{T-1}(W_{T-1})$<p>\n",
    "    $~~~~V_{T-2}(W_{T-2}) = \\max_{W_{T-1}}~~  u(W_{T-2} - W_{T-1}) + \\beta u(W_{T-1}-\\psi_{T-1}(W_{T-1})) + \\beta^{2}u(\\psi_{T-1}(W_{T-1}))$<p>\n",
    "    $~~$Optimization:<p>\n",
    "    $~~~~ = u'(W_{T-2} - W_{T-1})*(-1) + \\beta u'(W_{T-1}-\\psi_{T-1}(W_{T-1})*(1-\\frac{d\\psi_{T-1}(W_{T-1})}{dW_{T-1}})+\\beta^{2}u'(\\psi_{T-1}(W_{T-1}))*\\frac{d\\psi_{T-1}(W_{T-1})}{dW_{T-1}}=0$<p>\n",
    "    $~~~~ = -u'(W_{T-2} - W_{T-1}) + \\beta u'(W_{T-1}-\\psi_{T-1}(W_{T-1}))-\\beta u'(W_{T-1}-\\psi_{T-1}(W_{T-1}))\\frac{d\\psi_{T-1}(W_{T-1})}{dW_{T-1}}+\\beta^{2}u'(\\psi_{T-1}(W_{T-1}))*\\frac{d\\psi_{T-1}(W_{T-1})}{dW_{T-1}}=0$<p> \n",
    "    $~~~~= -u'(W_{T-2} - W_{T-1}) + \\beta u'(W_{T-1}-\\psi_{T-1}(W_{T-1}))- \\beta\\frac{d\\psi_{T-1}}{(W_{T-1})}[u'(W_{T-1}-\\psi_{T-1}(W_{T-1}) - \\beta u'(\\psi_{T-1}(W_{T-1}))]$<p>\n",
    "    From Exercise 4, we know the optimization of $T-1$:<p>\n",
    "        $~~~~u'(W_{T-1}-\\psi_{T-1}(W_{T-1}) - \\beta u'(\\psi_{T-1}(W_{T-1}))= 0$<p>\n",
    "    So,<p>\n",
    "        $~~~~u'(W_{T-2} - W_{T-1}) = \\beta u'(W_{T-1}-\\psi_{T-1}(W_{T-1}))$<p>\n",
    "    Using u(c) = ln(c):<p>\n",
    "        $\\frac{1}{(W_{T-2} - W_{T-1})}= \\beta\\frac{1}{W_{T-1}-\\psi_{T-1}(W_{T-1})}$<p>\n",
    "    $W_{T-1} = \\frac{\\beta(\\beta+1)}{\\beta^{2}+\\beta+1}W_{T-2}$<p>\n",
    "    $\\psi_{T-2}(W_{T-2})= \\frac{\\beta(\\beta+1)}{\\beta^{2}+\\beta+1}W_{T-2}$<p>\n",
    "    \n",
    "    "
   ]
  },
  {
   "cell_type": "markdown",
   "metadata": {},
   "source": [
    "we want policy function for $W_{T-2}$, so we want $\\psi_{T-2}W_{T-2}$ which is what $W_1$ equals. What do we do to $W_{T-2}$ to get to $W_{T-1}$\n",
    "\n",
    "And the Value function is:"
   ]
  },
  {
   "cell_type": "markdown",
   "metadata": {},
   "source": [
    "$V_{T-2}(W_{T-2}) = ln(W_{T-2} - \\frac{\\beta(\\beta+1)}{\\beta^{2}+\\beta+1}W_{T-2}) + \\beta ln(\\frac{\\beta(\\beta+1)}{\\beta^{2}+\\beta+1}W_{T-2}- \\frac{\\beta}{\\beta+1}W_{T-1})+\\beta^{2}ln(\\frac{\\beta}{\\beta+1}W_{T-1})$<p>\n",
    "$~~~~= ln(\\frac{1}{\\beta^{2}+\\beta+1}W_2)+\\beta ln(\\frac{\\beta}{\\beta^{2}+\\beta+1}W_2)) + \\beta^{2}ln(\\frac{\\beta^{2}}{\\beta^{2}+\\beta+1}W_2)$"
   ]
  },
  {
   "cell_type": "markdown",
   "metadata": {},
   "source": [
    "### Exercise 7"
   ]
  },
  {
   "cell_type": "markdown",
   "metadata": {},
   "source": [
    "### Exercise 8\n",
    "\n",
    "Write the Bellman equation for the cake eating problem with a general\n",
    "utility function u(c) when the horizon is infinite (i.e., either $T = \\infty$ or $s = \\infty$).\n",
    "\n",
    "$~~~~V(\\bar W) = \\max_\\bar W u(W-\\bar W) +\\beta V(\\bar W)$"
   ]
  },
  {
   "cell_type": "markdown",
   "metadata": {},
   "source": [
    "### Exercise 9\n",
    "\n",
    "Let the maximum size of the cake be $W_{max} = 1$. Approximate the\n",
    "continuum of possible cake sizes by a column vector called W that ranges between a\n",
    "number very close to 0 to 1. Let the number of possible cake values be N = 100 so that the increment between each value is 0.01. So $W_{min}$ = 0.01."
   ]
  },
  {
   "cell_type": "code",
   "execution_count": 1,
   "metadata": {},
   "outputs": [],
   "source": [
    "import numpy as np\n",
    "import matplotlib.pyplot as plt\n",
    "%matplotlib inline"
   ]
  },
  {
   "cell_type": "code",
   "execution_count": 3,
   "metadata": {},
   "outputs": [
    {
     "data": {
      "text/plain": [
       "array([0.01, 0.02, 0.03, 0.04, 0.05, 0.06, 0.07, 0.08, 0.09, 0.1 , 0.11,\n",
       "       0.12, 0.13, 0.14, 0.15, 0.16, 0.17, 0.18, 0.19, 0.2 , 0.21, 0.22,\n",
       "       0.23, 0.24, 0.25, 0.26, 0.27, 0.28, 0.29, 0.3 , 0.31, 0.32, 0.33,\n",
       "       0.34, 0.35, 0.36, 0.37, 0.38, 0.39, 0.4 , 0.41, 0.42, 0.43, 0.44,\n",
       "       0.45, 0.46, 0.47, 0.48, 0.49, 0.5 , 0.51, 0.52, 0.53, 0.54, 0.55,\n",
       "       0.56, 0.57, 0.58, 0.59, 0.6 , 0.61, 0.62, 0.63, 0.64, 0.65, 0.66,\n",
       "       0.67, 0.68, 0.69, 0.7 , 0.71, 0.72, 0.73, 0.74, 0.75, 0.76, 0.77,\n",
       "       0.78, 0.79, 0.8 , 0.81, 0.82, 0.83, 0.84, 0.85, 0.86, 0.87, 0.88,\n",
       "       0.89, 0.9 , 0.91, 0.92, 0.93, 0.94, 0.95, 0.96, 0.97, 0.98, 0.99,\n",
       "       1.  ])"
      ]
     },
     "execution_count": 3,
     "metadata": {},
     "output_type": "execute_result"
    }
   ],
   "source": [
    "N = 100\n",
    "Wvector = np.linspace(.01,1,N)\n",
    "Wvector"
   ]
  },
  {
   "cell_type": "markdown",
   "metadata": {},
   "source": [
    "### Exercise 10. \n",
    "\n",
    "As in the previous problem sets, assume that period T is the final period of an individual’s life. So $V_{T +1}(W')$ for entering period $T + 1$ with a cake of size $W'$ is a column vector of zeros of length N, where $V_{T +1} : R^N -->  R^N$ and $W, W' ∈ [W_{min}, W_{max}]$. Assume that the period utility function has the logarithmic functional form u(c) = ln(c), and that the discount factor is $\\beta = 0.9$. What is the resulting policy function $W' = \\psi_T (W)$ and value function $V_T(W)$ when $V_T$ is defined as the contraction in equations (9) and (10)? See Appendix 9 for a fast way to compute this exercise."
   ]
  },
  {
   "cell_type": "code",
   "execution_count": 4,
   "metadata": {},
   "outputs": [],
   "source": [
    "N=100\n",
    "beta = .9\n",
    "\n",
    "def u(c):\n",
    "    c_leq0 = c <=0\n",
    "    util = np.zeros_like(c)\n",
    "    util[~c_leq0] = np.log(c[~c_leq0])\n",
    "    util[c_leq0] = -1e7\n",
    "    \n",
    "    return util\n",
    "\n",
    "Wmin = 1e-4\n",
    "Wmax = 1\n",
    "Wsize = 100\n",
    "Wvector= Wvector.reshape((Wsize,1))\n",
    "Wprimevec = Wvector.reshape((1,Wsize))\n"
   ]
  },
  {
   "cell_type": "code",
   "execution_count": 5,
   "metadata": {},
   "outputs": [
    {
     "data": {
      "text/plain": [
       "array([[ 0.  , -0.01, -0.02, ..., -0.97, -0.98, -0.99],\n",
       "       [ 0.01,  0.  , -0.01, ..., -0.96, -0.97, -0.98],\n",
       "       [ 0.02,  0.01,  0.  , ..., -0.95, -0.96, -0.97],\n",
       "       ...,\n",
       "       [ 0.97,  0.96,  0.95, ...,  0.  , -0.01, -0.02],\n",
       "       [ 0.98,  0.97,  0.96, ...,  0.01,  0.  , -0.01],\n",
       "       [ 0.99,  0.98,  0.97, ...,  0.02,  0.01,  0.  ]])"
      ]
     },
     "execution_count": 5,
     "metadata": {},
     "output_type": "execute_result"
    }
   ],
   "source": [
    "Wmatrix = np.tile(Wvector,(1,Wsize))\n",
    "Wpmatrix = np.tile(Wprimevec,(Wsize,1))\n",
    "con_mat = Wmatrix-Wpmatrix\n",
    "con_mat"
   ]
  },
  {
   "cell_type": "code",
   "execution_count": 7,
   "metadata": {},
   "outputs": [
    {
     "data": {
      "text/plain": [
       "array([[-1.00000000e+07, -1.00000000e+07, -1.00000000e+07, ...,\n",
       "        -1.00000000e+07, -1.00000000e+07, -1.00000000e+07],\n",
       "       [-4.60517019e+00, -1.00000000e+07, -1.00000000e+07, ...,\n",
       "        -1.00000000e+07, -1.00000000e+07, -1.00000000e+07],\n",
       "       [-3.91202301e+00, -4.60517019e+00, -1.00000000e+07, ...,\n",
       "        -1.00000000e+07, -1.00000000e+07, -1.00000000e+07],\n",
       "       ...,\n",
       "       [-3.04592075e-02, -4.08219945e-02, -5.12932944e-02, ...,\n",
       "        -1.00000000e+07, -1.00000000e+07, -1.00000000e+07],\n",
       "       [-2.02027073e-02, -3.04592075e-02, -4.08219945e-02, ...,\n",
       "        -4.60517019e+00, -1.00000000e+07, -1.00000000e+07],\n",
       "       [-1.00503359e-02, -2.02027073e-02, -3.04592075e-02, ...,\n",
       "        -3.91202301e+00, -4.60517019e+00, -1.00000000e+07]])"
      ]
     },
     "execution_count": 7,
     "metadata": {},
     "output_type": "execute_result"
    }
   ],
   "source": [
    "utility = u(con_mat)\n",
    "utility"
   ]
  },
  {
   "cell_type": "code",
   "execution_count": 22,
   "metadata": {},
   "outputs": [
    {
     "data": {
      "text/plain": [
       "[<matplotlib.lines.Line2D at 0x11445e198>]"
      ]
     },
     "execution_count": 22,
     "metadata": {},
     "output_type": "execute_result"
    },
    {
     "data": {
      "image/png": "[encoded data removed]",
      "text/plain": [
       "<Figure size 432x288 with 1 Axes>"
      ]
     },
     "metadata": {
      "needs_background": "light"
     },
     "output_type": "display_data"
    }
   ],
   "source": [
    "Vtm1 = (utility + beta*u(Wpmatrix)).max(axis=1).reshape(Wsize,1)\n",
    "plt.plot(np.arange(2,Wsize+1), Vtm1[1:])\n"
   ]
  },
  {
   "cell_type": "code",
   "execution_count": 25,
   "metadata": {},
   "outputs": [
    {
     "data": {
      "text/plain": [
       "[<matplotlib.lines.Line2D at 0x1137744e0>]"
      ]
     },
     "execution_count": 25,
     "metadata": {},
     "output_type": "execute_result"
    },
    {
     "data": {
      "image/png": "[encoded data removed]",
      "text/plain": [
       "<Figure size 432x288 with 1 Axes>"
      ]
     },
     "metadata": {
      "needs_background": "light"
     },
     "output_type": "display_data"
    }
   ],
   "source": [
    "pol_func = (beta/beta+1)*Wmatrix.max(axis=1).reshape(Wsize,1)\n",
    "plt.plot(np.arange(2,Wsize+1), pol_func[1:])"
   ]
  },
  {
   "cell_type": "markdown",
   "metadata": {},
   "source": [
    "### Exercise 11. \n",
    "\n",
    "Generate a norm $\\delta T = ||V_T(W) − V_{T +1} (W')||$ that measures the distance between the two value functions. Define the distance metric as the sum of the squared differences,\n",
    "$$\\delta T = ||V_T(W) − V_{T +1} (W')= (V_T-V_{T-1})'*(V_T-V_{T-1})$$<p>\n",
    "\n",
    "where $(V_T − V_{T +1})'$ is the transpose of the difference of the two vectors. Defined in\n",
    "this way, $\\delta T ∈ R_+$."
   ]
  },
  {
   "cell_type": "code",
   "execution_count": null,
   "metadata": {},
   "outputs": [],
   "source": []
  }
 ],
 "metadata": {
  "kernelspec": {
   "display_name": "Python 3",
   "language": "python",
   "name": "python3"
  },
  "language_info": {
   "codemirror_mode": {
    "name": "ipython",
    "version": 3
   },
   "file_extension": ".py",
   "mimetype": "text/x-python",
   "name": "python",
   "nbconvert_exporter": "python",
   "pygments_lexer": "ipython3",
   "version": "3.7.0"
  }
 },
 "nbformat": 4,
 "nbformat_minor": 2
}
